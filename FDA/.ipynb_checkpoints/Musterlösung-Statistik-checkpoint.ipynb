{
 "cells": [
  {
   "cell_type": "markdown",
   "metadata": {},
   "source": [
    "# Musterlösung"
   ]
  },
  {
   "cell_type": "markdown",
   "metadata": {},
   "source": [
    "### Aufgabe 1"
   ]
  },
  {
   "cell_type": "markdown",
   "metadata": {},
   "source": [
    "In einem dunklen Zimmer sind in einer Schublade 4 schwarze, 6 graue und 2 braune Socken. Wenn Sie zwei Socken aus der Lade ziehen, wie viele Kombinationen gleicher Farbe gibt es?"
   ]
  },
  {
   "cell_type": "markdown",
   "metadata": {},
   "source": [
    "$$ \n",
    "\\left( \\begin{array}{c} 4 \\\\ 2 \\end{array}\\right) + \n",
    "\\left( \\begin{array}{c} 6 \\\\ 2 \\end{array}\\right) + \n",
    "\\left( \\begin{array}{c} 2 \\\\ 2 \\end{array}\\right) = \n",
    "\\frac{4 \\cdot 3}{2 \\cdot 1} +\n",
    "\\frac{6 \\cdot 5}{2 \\cdot 1} +\n",
    "\\frac{2 \\cdot 1}{2 \\cdot 1} =\n",
    "6 + 15 + 1 = 22\n",
    "$$"
   ]
  },
  {
   "cell_type": "code",
   "execution_count": 1,
   "metadata": {},
   "outputs": [
    {
     "data": {
      "text/html": [
       "22"
      ],
      "text/latex": [
       "22"
      ],
      "text/markdown": [
       "22"
      ],
      "text/plain": [
       "[1] 22"
      ]
     },
     "metadata": {},
     "output_type": "display_data"
    }
   ],
   "source": [
    "choose(4,2) + choose(6,2) + choose(2,2)"
   ]
  },
  {
   "cell_type": "markdown",
   "metadata": {},
   "source": [
    "### Aufgabe 2\n",
    "\n",
    "Bei der Glücksspirale der Olympia-Lotterie 1971 wurden einer Trommel, die 70 Kugeln, davon je 7 mit den Ziffern $0,1,\\ldots,9$, enthielt, zur Ermittlung einer 7-stelligen Glückszahl 7 Kugeln entnommen und in der gezogenen Reihenfolge zu einer Zahl angeordnet. Der Hauptgewinn entfiel auf das Los, dessen 7-stellige Losnummer mit der auf diese Weise ermittelten Glückszahl übereinstimmte. Man zeige, dass es genau 15 Sorten von 7-stelligen Losnummern mit verschiedenen Wahrscheinlichkeiten dafür gibt, dass der Hauptgewinn auf das zugehörige Los fällt. Man berechne alle 15 Wahrscheinlichkeiten."
   ]
  },
  {
   "cell_type": "markdown",
   "metadata": {},
   "source": [
    "mögliche Fälle: \n",
    "\n",
    "$$\n",
    "    m = 70 \\cdot 69 \\cdot 68 \\cdot 67 \\cdot 66 \\cdot 65 \\cdot 64 = \\frac{70!}{63!} = \\frac{70!}{(70-7)!} = 6041824588800\n",
    "$$\n",
    "\n",
    "*Sorte 1* $S_1$, nur 1 Ziffer:\n",
    "\n",
    "günstige Fälle:\n",
    "\n",
    "$$\n",
    "    g(S_1) = 7 \\cdot 6 \\cdot 5 \\cdot 4 \\cdot 3 \\cdot 2 \\cdot 1 = 7! = 5040\n",
    "$$\n",
    "Wahrscheinlichkeit:\n",
    "$$\n",
    "    P(S_1) = \\frac{\\mbox{günstige Fälle}}{\\mbox{mögliche Fälle}} = \\frac{g(S_1)}{m} = \\frac{5040}{6041824588800} \\approx 8,34 \\cdot 10^{-10}\n",
    "$$\n",
    "\n",
    "$S_2$, 2 Ziffern, 6 Kugeln Ziffer 1, 1 Kugel Ziffer 2:\n",
    "\n",
    "günstige Fälle:\n",
    "\n",
    "$$\n",
    "    g(S_2) = 7 \\cdot 6 \\cdot 5 \\cdot 4 \\cdot 3 \\cdot 2 \\cdot 7 = \\frac{7!\\cdot7}{(7-6)!} = 35280\n",
    "$$\n",
    "Wahrscheinlichkeit:\n",
    "$$\n",
    "    P(S_2) = \\frac{g(S_2)}{m} \\approx 5,84 \\cdot 10^{-9}\n",
    "$$\n",
    "\n",
    "$S_3$, 2 Ziffern, 5 Kugeln Ziffer 1, 2 Kugeln Ziffer 2:\n",
    "\n",
    "$$\n",
    "    g(S_3) = 7 \\cdot 6 \\cdot 5 \\cdot 4 \\cdot 3 \\cdot 7 \\cdot 6 = \\frac{7!}{(7-5)!}\\cdot \\frac{7!}{(7-2)!} =\n",
    "    105840 \\\\\n",
    "    P(S_3) = \\frac{g(S_3)}{m}  \\approx 1,75 \\cdot 10^{-8}\n",
    "$$\n",
    "\n",
    "$S_4$, 2 Ziffern, 4 Kugeln Ziffer 1, 3 Kugeln Ziffer 2:\n",
    "\n",
    "$$\n",
    "    g(S_4) = 7 \\cdot 6 \\cdot 5 \\cdot 4 \\cdot 7 \\cdot 6 \\cdot 5 = \\frac{7!}{(7-4)!}\\cdot \\frac{7!}{(7-3)!} =\n",
    "    176400, P(S_4) \\approx 2,92 \\cdot 10^{-8}\n",
    "$$\n",
    "\n",
    "$S_5$, 3 Ziffern, 5 Kugeln Ziffer 1, 1 Kugel Ziffer 2, 1 Kugel Ziffer 3:\n",
    "\n",
    "$$\n",
    "    g(S_5) = 7 \\cdot 6 \\cdot 5 \\cdot 4 \\cdot 3 \\cdot 7 \\cdot 7 = \n",
    "             \\frac{7!}{(7-5)!}\\cdot \\frac{7!}{(7-1)!} \\cdot \\frac{7!}{(7-1)!} = 123480, \n",
    "    P(S_5) \\approx 2,04 \\cdot 10^{-8}\n",
    "$$\n",
    "\n",
    "$S_6$, 3 Ziffern, 4 Kugeln Ziffer 1, 2 Kugeln Ziffer 2, 1 Kugel Ziffer 3:\n",
    "\n",
    "$$\n",
    "    g(S_6) = 7 \\cdot 6 \\cdot 5 \\cdot 4 \\cdot 7 \\cdot 6 \\cdot 7 = \n",
    "             \\frac{7!}{(7-4)!}\\cdot \\frac{7!}{(7-2)!} \\cdot \\frac{7!}{(7-1)!} = 246960, \n",
    "    P(S_6) \\approx 4,09 \\cdot 10^{-8}\n",
    "$$\n",
    "\n",
    "$S_7$, 3 Ziffern, 3 Kugeln Ziffer 1, 3 Kugeln Ziffer 2, 1 Kugel Ziffer 3:\n",
    "\n",
    "$$\n",
    "    g(S_7) = 7 \\cdot 6 \\cdot 5 \\cdot 7 \\cdot 6 \\cdot 5 \\cdot 7 = \n",
    "             \\frac{7!}{(7-3)!}\\cdot \\frac{7!}{(7-3)!} \\cdot \\frac{7!}{(7-1)!} = 308700, \n",
    "    P(S_7) \\approx 5,11 \\cdot 10^{-8}\n",
    "$$\n",
    "\n",
    "$S_8$, 3 Ziffern, 3 Kugeln Ziffer 1, 2 Kugeln Ziffer 2, 2 Kugeln Ziffer 3:\n",
    "\n",
    "$$\n",
    "    g(S_8) = 7 \\cdot 6 \\cdot 5 \\cdot 7 \\cdot 6 \\cdot 7 \\cdot 6 = \n",
    "             \\frac{7!}{(7-3)!}\\cdot \\frac{7!}{(7-2)!} \\cdot \\frac{7!}{(7-2)!} = 370440, \n",
    "    P(S_8) \\approx 6,13 \\cdot 10^{-8}\n",
    "$$\n",
    "\n",
    "$S_9$, 4 Ziffern, 4 Kugeln Ziffer 1, 1 Kugel Ziffer 2, 1 Kugel Ziffer 3, 1 Kugel Ziffer 4:\n",
    "\n",
    "$$\n",
    "    g(S_9) = 7 \\cdot 6 \\cdot 5 \\cdot 4 \\cdot 7 \\cdot 7 \\cdot 7 = \n",
    "             \\frac{7!}{(7-4)!}\\cdot \\frac{7!}{(7-1)!} \\cdot \\frac{7!}{(7-1)!} \\cdot \\frac{7!}{(7-1)!} = 288120, \n",
    "    P(S_9) \\approx 4,77 \\cdot 10^{-8}\n",
    "$$\n",
    "\n",
    "$S_{10}$, 4 Ziffern, 3 Kugeln Ziffer 1, 2 Kugeln Ziffer 2, 1 Kugel Ziffer 3, 1 Kugel Ziffer 4:\n",
    "\n",
    "$$\n",
    "    g(S_{10}) = 7 \\cdot 6 \\cdot 5 \\cdot 7 \\cdot 6 \\cdot 7 \\cdot 7 = \n",
    "             \\frac{7!}{(7-3)!}\\cdot \\frac{7!}{(7-2)!} \\cdot \\frac{7!}{(7-1)!} \\cdot \\frac{7!}{(7-1)!} = 432180, \n",
    "    P(S_{10}) \\approx 7,15 \\cdot 10^{-8}\n",
    "$$\n",
    "\n",
    "$S_{11}$, 4 Ziffern, 2 Kugeln Ziffer 1, 2 Kugeln Ziffer 2, 2 Kugeln Ziffer 3, 1 Kugel Ziffer 4:\n",
    "\n",
    "$$\n",
    "    g(S_{11}) = 7 \\cdot 6 \\cdot 7 \\cdot 6 \\cdot 7 \\cdot 6 \\cdot 7 = \n",
    "             \\frac{7!}{(7-2)!}\\cdot \\frac{7!}{(7-2)!} \\cdot \\frac{7!}{(7-2)!} \\cdot \\frac{7!}{(7-1)!} = 518616, \n",
    "    P(S_{11}) \\approx 8,58 \\cdot 10^{-8}\n",
    "$$\n",
    "\n",
    "$S_{12}$, 5 Ziffern, 3 Kugeln Ziffer 1, 1 Kugel Ziffer 2, 1 Kugel Ziffer 3, 1 Kugel Ziffer 4, 1 Kugel Ziffer 5:\n",
    "\n",
    "$$\n",
    "    g(S_{12}) = 7 \\cdot 6 \\cdot 4 \\cdot 7 \\cdot 7 \\cdot 7 \\cdot 7 = \n",
    "             \\frac{7!}{(7-3)!}\\cdot \\frac{7!}{(7-1)!} \\cdot \\frac{7!}{(7-1)!} \n",
    "             \\cdot \\frac{7!}{(7-1)!} \\cdot \\frac{7!}{(7-1)!} = 504210, \n",
    "    P(S_{12}) \\approx 8,35 \\cdot 10^{-8}\n",
    "$$\n",
    "\n",
    "$S_{13}$, 5 Ziffern, 2 Kugeln Ziffer 1, 2 Kugeln Ziffer 2, 1 Kugel Ziffer 3, 1 Kugel Ziffer 4, 1 Kugel Ziffer 5:\n",
    "\n",
    "$$\n",
    "    g(S_{13}) = 7 \\cdot 6 \\cdot 7 \\cdot 6 \\cdot 7 \\cdot 7 \\cdot 7 = \n",
    "             \\frac{7!}{(7-2)!}\\cdot \\frac{7!}{(7-2)!} \\cdot \\frac{7!}{(7-1)!} \n",
    "             \\cdot \\frac{7!}{(7-1)!} \\cdot \\frac{7!}{(7-1)!} = 605052, \n",
    "    P(S_{13}) \\approx 1,00 \\cdot 10^{-7}\n",
    "$$\n",
    "\n",
    "$S_{14}$, 6 Ziffern, 2 Kugeln Ziffer 1, 1 Kugel Ziffer 2, 1 Kugel Ziffer 3, 1 Kugel Ziffer 4, \n",
    "        1 Kugel Ziffer 5, 1 Kugel Ziffer 6:\n",
    "\n",
    "$$\n",
    "    g(S_{14}) = 7 \\cdot 6 \\cdot 7 \\cdot 7 \\cdot 7 \\cdot 7 \\cdot 7 = \n",
    "             \\frac{7!}{(7-2)!}\\cdot \\frac{7!}{(7-1)!} \\cdot \\frac{7!}{(7-1)!} \n",
    "             \\cdot \\frac{7!}{(7-1)!} \\cdot \\frac{7!}{(7-1)!} \\cdot \\frac{7!}{(7-1)!} = 705894, \n",
    "    P(S_{14}) \\approx 1,17 \\cdot 10^{-7}\n",
    "$$\n",
    "\n",
    "$S_{15}$, 7 Ziffern, 1 Kugel Ziffer 1, 1 Kugel Ziffer 2, 1 Kugel Ziffer 3, 1 Kugel Ziffer 4, \n",
    "        1 Kugel Ziffer 5, 1 Kugel Ziffer 6, 1 Kugel Ziffer 7:\n",
    "\n",
    "$$\n",
    "    g(S_{15}) = 7 \\cdot 7 \\cdot 7 \\cdot 7 \\cdot 7 \\cdot 7 \\cdot 7 = \n",
    "             \\frac{7!}{(7-1)!}\\cdot \\frac{7!}{(7-1)!} \\cdot \\frac{7!}{(7-1)!} \n",
    "             \\cdot \\frac{7!}{(7-1)!} \\cdot \\frac{7!}{(7-1)!} \\cdot \\frac{7!}{(7-1)!} \n",
    "             \\cdot \\frac{7!}{(7-1)!} = 825543, \n",
    "    P(S_{15}) \\approx 1,36 \\cdot 10^{-7}\n",
    "$$"
   ]
  },
  {
   "cell_type": "code",
   "execution_count": 2,
   "metadata": {
    "scrolled": true
   },
   "outputs": [
    {
     "data": {
      "text/html": [
       "6041824588800"
      ],
      "text/latex": [
       "6041824588800"
      ],
      "text/markdown": [
       "6041824588800"
      ],
      "text/plain": [
       "[1] 6.041825e+12"
      ]
     },
     "metadata": {},
     "output_type": "display_data"
    }
   ],
   "source": [
    "m <- choose(70,7)*factorial(7); m"
   ]
  },
  {
   "cell_type": "code",
   "execution_count": 3,
   "metadata": {},
   "outputs": [
    {
     "data": {
      "text/html": [
       "<ol class=list-inline>\n",
       "\t<li>5040</li>\n",
       "\t<li>35280</li>\n",
       "\t<li>105840</li>\n",
       "\t<li>176400</li>\n",
       "\t<li>123480</li>\n",
       "\t<li>246960</li>\n",
       "\t<li>308700</li>\n",
       "\t<li>370440</li>\n",
       "\t<li>288120</li>\n",
       "\t<li>432180</li>\n",
       "\t<li>518616</li>\n",
       "\t<li>504210</li>\n",
       "\t<li>605052</li>\n",
       "\t<li>705894</li>\n",
       "\t<li>823543</li>\n",
       "</ol>\n"
      ],
      "text/latex": [
       "\\begin{enumerate*}\n",
       "\\item 5040\n",
       "\\item 35280\n",
       "\\item 105840\n",
       "\\item 176400\n",
       "\\item 123480\n",
       "\\item 246960\n",
       "\\item 308700\n",
       "\\item 370440\n",
       "\\item 288120\n",
       "\\item 432180\n",
       "\\item 518616\n",
       "\\item 504210\n",
       "\\item 605052\n",
       "\\item 705894\n",
       "\\item 823543\n",
       "\\end{enumerate*}\n"
      ],
      "text/markdown": [
       "1. 5040\n",
       "2. 35280\n",
       "3. 105840\n",
       "4. 176400\n",
       "5. 123480\n",
       "6. 246960\n",
       "7. 308700\n",
       "8. 370440\n",
       "9. 288120\n",
       "10. 432180\n",
       "11. 518616\n",
       "12. 504210\n",
       "13. 605052\n",
       "14. 705894\n",
       "15. 823543\n",
       "\n",
       "\n"
      ],
      "text/plain": [
       " [1]   5040  35280 105840 176400 123480 246960 308700 370440 288120 432180\n",
       "[11] 518616 504210 605052 705894 823543"
      ]
     },
     "metadata": {},
     "output_type": "display_data"
    },
    {
     "data": {
      "text/html": [
       "<ol class=list-inline>\n",
       "\t<li>8.34185091924528e-10</li>\n",
       "\t<li>5.83929564347169e-09</li>\n",
       "\t<li>1.75178869304151e-08</li>\n",
       "\t<li>2.91964782173585e-08</li>\n",
       "\t<li>2.04375347521509e-08</li>\n",
       "\t<li>4.08750695043019e-08</li>\n",
       "\t<li>5.10938368803773e-08</li>\n",
       "\t<li>6.13126042564528e-08</li>\n",
       "\t<li>4.76875810883522e-08</li>\n",
       "\t<li>7.15313716325282e-08</li>\n",
       "\t<li>8.58376459590339e-08</li>\n",
       "\t<li>8.34532669046163e-08</li>\n",
       "\t<li>1.0014392028554e-07</li>\n",
       "\t<li>1.16834573666463e-07</li>\n",
       "\t<li>1.36307002610873e-07</li>\n",
       "</ol>\n"
      ],
      "text/latex": [
       "\\begin{enumerate*}\n",
       "\\item 8.34185091924528e-10\n",
       "\\item 5.83929564347169e-09\n",
       "\\item 1.75178869304151e-08\n",
       "\\item 2.91964782173585e-08\n",
       "\\item 2.04375347521509e-08\n",
       "\\item 4.08750695043019e-08\n",
       "\\item 5.10938368803773e-08\n",
       "\\item 6.13126042564528e-08\n",
       "\\item 4.76875810883522e-08\n",
       "\\item 7.15313716325282e-08\n",
       "\\item 8.58376459590339e-08\n",
       "\\item 8.34532669046163e-08\n",
       "\\item 1.0014392028554e-07\n",
       "\\item 1.16834573666463e-07\n",
       "\\item 1.36307002610873e-07\n",
       "\\end{enumerate*}\n"
      ],
      "text/markdown": [
       "1. 8.34185091924528e-10\n",
       "2. 5.83929564347169e-09\n",
       "3. 1.75178869304151e-08\n",
       "4. 2.91964782173585e-08\n",
       "5. 2.04375347521509e-08\n",
       "6. 4.08750695043019e-08\n",
       "7. 5.10938368803773e-08\n",
       "8. 6.13126042564528e-08\n",
       "9. 4.76875810883522e-08\n",
       "10. 7.15313716325282e-08\n",
       "11. 8.58376459590339e-08\n",
       "12. 8.34532669046163e-08\n",
       "13. 1.0014392028554e-07\n",
       "14. 1.16834573666463e-07\n",
       "15. 1.36307002610873e-07\n",
       "\n",
       "\n"
      ],
      "text/plain": [
       " [1] 8.341851e-10 5.839296e-09 1.751789e-08 2.919648e-08 2.043753e-08\n",
       " [6] 4.087507e-08 5.109384e-08 6.131260e-08 4.768758e-08 7.153137e-08\n",
       "[11] 8.583765e-08 8.345327e-08 1.001439e-07 1.168346e-07 1.363070e-07"
      ]
     },
     "metadata": {},
     "output_type": "display_data"
    }
   ],
   "source": [
    "f <- function (v) {\n",
    "    prod(factorial(7)/factorial(7-v))\n",
    "}\n",
    "\n",
    "sl <- list(c(7), \n",
    "           c(6,1), c(5,2), c(4,3), \n",
    "           c(5,1,1), c(4,2,1), c(3,3,1), c(3,2,2),\n",
    "           c(4,1,1,1), c(3,2,1,1), c(2,2,2,1), \n",
    "           c(3,1,1,1,1), c(2,2,1,1,1),\n",
    "           c(2,1,1,1,1,1),\n",
    "           c(1,1,1,1,1,1,1))\n",
    "gl <- lapply(sl, f)\n",
    "g <- unlist(gl); g\n",
    "g/m"
   ]
  },
  {
   "cell_type": "markdown",
   "metadata": {},
   "source": [
    "### Aufgabe 3\n",
    "\n",
    "Ein dreimotoriges Flugzeug stürzt ab, wenn der Hauptmotor in der Mitte ausfällt oder beide Seitenmotoren ausfallen. Ein viermotoriges Flugzeug stürzt ab, wenn auf einer Seite beide Motoren ausfallen. Es wird angenommen, dass jeder der Flugzeugmotoren mit der Wahrscheinlichkeit $p$ auf einem bestimmten Flug ausfällt. Unter der Annahme der Unabhängigkeit für das Eintreten der Defekte an den einzelnen Flugzeugmotoren berechne man die Wahrscheinlichkeit dafür, dass ein dreimotoriges bzw. viermotoriges Flugzeug durch Motorversagen abstürzt. Man stelle die beiden errechneten Wahrscheinlichkeiten in Abhängigkeit von $p$ grafisch dar."
   ]
  },
  {
   "cell_type": "markdown",
   "metadata": {},
   "source": [
    "*3-motorig:*\n",
    "\n",
    "$A_{HM}\\ldots$ Ausfall Hauptmotor, \n",
    "$A_{SM1}\\ldots$ Ausfall Seitenmotor 1, \n",
    "$A_{SM2}\\ldots$ Ausfall Seitenmotor 2,\n",
    "$A\\ldots$ Absturz\n",
    "\n",
    "$$\n",
    "    P(A) = P(A_{HM} \\vee (A_{SM1} \\wedge A_{SM2})) \\\\ \n",
    "    = P(A_{HM}) + P(A_{SM1})P(A_{SM2}) - P(A_{HM})P(A_{SM1})P(A_{SM2}) = p + p^2 - p^3\n",
    "$$\n",
    "\n",
    "*4-motorig:*\n",
    "\n",
    "$A_{LM1}\\ldots$ Ausfall linker Motor 1, \n",
    "$A_{LM2}\\ldots$ Ausfall linker Motor 2, \n",
    "$A_{RM1}\\ldots$ Ausfall rechter Motor 1, \n",
    "$A_{RM2}\\ldots$ Ausfall rechter Motor 2, \n",
    "$A\\ldots$ Absturz\n",
    "\n",
    "$$\n",
    "    P(A) = P((A_{LM1} \\wedge A_{LM2}) \\vee (A_{RM1} \\wedge A_{RM2})) \\\\\n",
    "    = P(A_{LM1})P(A_{LM2}) + P(A_{RM1})P(A_{RM2}) - P(A_{LM1})P(A_{LM2})P(A_{RM1})P(A_{RM2}) = 2p^2 - p^4\n",
    "$$"
   ]
  },
  {
   "cell_type": "code",
   "execution_count": 4,
   "metadata": {},
   "outputs": [
    {
     "data": {
      "image/png": "[encoded data removed]",
      "text/plain": [
       "plot without title"
      ]
     },
     "metadata": {},
     "output_type": "display_data"
    }
   ],
   "source": [
    "options(repr.plot.width=6, repr.plot.height=6)\n",
    "\n",
    "x <- seq(0,1,length=100)\n",
    "y <- x + x**2 - x**3\n",
    "plot(x, y, type=\"l\", xlab=\"Wahrscheinlichkeit Motorausfall\", ylab=\"Wahrscheinlichkeit Absturz\", col=\"green\")\n",
    "y2 <- 2*x**2 - x**4\n",
    "lines(x, y2, col=\"red\")\n",
    "legend(x=\"topleft\", inset=0.05, text.width = 0.15, \n",
    "           legend=c(\"3-motorig\", \"4-motorig\"), col=c(\"green\", \"red\"), lty=1, cex=0.8)"
   ]
  },
  {
   "cell_type": "markdown",
   "metadata": {},
   "source": [
    "### Aufgabe 4\n",
    "\n",
    "Es sei eine $𝑁(10,4)$-verteilte Zufallsvariable $X$ gegeben und als untere Grenze $x_u=8$ festgelegt. Wie muss die obere Grenze $x_o$ gewählt werden, damit $P(x_u \\leq X \\leq x_o )=0.55$ ist? \n",
    "\n",
    "Plotten Sie die Lösung als Fläche unter der Dichtefunktion."
   ]
  },
  {
   "cell_type": "markdown",
   "metadata": {},
   "source": [
    "Unter Verwendung der R-Funktion `pnorm`: $P(X \\leq 8) \\approx 0.1587$\n",
    "\n",
    "$P(X \\leq x_o) = P(8 \\leq X \\leq x_o) + P(X \\leq 8) \\approx 0.55 + 0.1587 \\approx 0.7087 $\n",
    "\n",
    "Unter Verwendung der R-Funktion `qnorm`: $P(X \\leq x_0) \\approx 0.7087 \\Rightarrow x_o \\approx 11.0989$"
   ]
  },
  {
   "cell_type": "code",
   "execution_count": 5,
   "metadata": {},
   "outputs": [
    {
     "data": {
      "text/html": [
       "0.158655253931457"
      ],
      "text/latex": [
       "0.158655253931457"
      ],
      "text/markdown": [
       "0.158655253931457"
      ],
      "text/plain": [
       "[1] 0.1586553"
      ]
     },
     "metadata": {},
     "output_type": "display_data"
    },
    {
     "data": {
      "text/html": [
       "0.708655253931457"
      ],
      "text/latex": [
       "0.708655253931457"
      ],
      "text/markdown": [
       "0.708655253931457"
      ],
      "text/plain": [
       "[1] 0.7086553"
      ]
     },
     "metadata": {},
     "output_type": "display_data"
    },
    {
     "data": {
      "text/html": [
       "11.0989209205533"
      ],
      "text/latex": [
       "11.0989209205533"
      ],
      "text/markdown": [
       "11.0989209205533"
      ],
      "text/plain": [
       "[1] 11.09892"
      ]
     },
     "metadata": {},
     "output_type": "display_data"
    }
   ],
   "source": [
    "mean = 10; sd = 2; ug=8; p2=0.55\n",
    "p1 <- pnorm(ug, mean, sd); p1\n",
    "p1+p2\n",
    "og <- qnorm(p1+p2, mean, sd); og"
   ]
  },
  {
   "cell_type": "code",
   "execution_count": 6,
   "metadata": {},
   "outputs": [
    {
     "data": {
      "image/png": "[encoded data removed]",
      "text/plain": [
       "plot without title"
      ]
     },
     "metadata": {},
     "output_type": "display_data"
    }
   ],
   "source": [
    "options(repr.plot.width=6, repr.plot.height=3)\n",
    "x <- seq(5,15,length=100)\n",
    "hx <- dnorm(x,mean,sd)\n",
    "\n",
    "plot(x, hx, type=\"l\", xlab=\"\", ylab=\"\", axes=FALSE)\n",
    "i <- x >= ug & x <= og\n",
    "polygon(  c(ug, ug, x[i], og, og), \n",
    "          c(0, dnorm(ug, mean, sd), hx[i], dnorm(og, mean, sd), 0), \n",
    "          col=rgb(1, 0, 0, 0.2))\n",
    "axis(1, at=seq(5, 15, 1), pos=0) "
   ]
  },
  {
   "cell_type": "markdown",
   "metadata": {},
   "source": [
    "### Aufgabe 5\n",
    "\n",
    "Sei $X$ eine Zufallsvariable mit einer stetigen Verteilungsfunktion $F$ der Form\n",
    "\n",
    "$$F(x)=\\left\\{\n",
    "         \\begin{array}{ll}\n",
    "           0 & \\textrm{für } x<0\\\\\n",
    "           \\sin{x} & \\textrm{für } 0 \\leq x \\leq \\pi/2 \\\\\n",
    "           1 & \\textrm{für } x>\\pi/2\\\\\n",
    "         \\end{array}\n",
    "       \\right.\n",
    "$$\n",
    "\n",
    "Man berechne den Erwartungswert $E(X)$ und die Varianz $\\mathit{Var(X)}$. "
   ]
  },
  {
   "cell_type": "markdown",
   "metadata": {},
   "source": [
    "Dichtefunktion $f(x)$ bestimmen durch Differenzieren:\n",
    "\n",
    "$$\n",
    "    f(x)=\\left\\{\n",
    "         \\begin{array}{ll}\n",
    "           0 & \\textrm{für } x<0\\\\\n",
    "           \\cos{x} & \\textrm{für } 0 \\leq x \\leq \\pi/2 \\\\\n",
    "           0 & \\textrm{für } x>\\pi/2\\\\\n",
    "         \\end{array}\n",
    "       \\right.\n",
    "$$\n",
    "\n",
    "$E(X)$ berechnen durch partielles Integrieren:\n",
    "\n",
    "$$\n",
    "    E(X) = \\int_{-\\infty}^{+\\infty}{xf(x)dx} \n",
    "    = \\int_0^{\\pi/2} {x\\cos{x}dx} \\\\\n",
    "    \\int{u dv} = uv - \\int{v du} \\\\\n",
    "    u = x, du = dx \\\\\n",
    "    dv = \\cos{x}dx, v = \\sin{x} \\\\\n",
    "    = x\\sin{x} - \\int_0^{\\pi/2} {\\sin{x}dx} \\\\\n",
    "    = x\\sin{x} + \\cos{x} \\bigg|_0^{\\pi/2} = \\frac{\\pi}{2} - 1 \\approx 0.5708\n",
    "$$"
   ]
  },
  {
   "cell_type": "code",
   "execution_count": 7,
   "metadata": {},
   "outputs": [
    {
     "data": {
      "text/html": [
       "0.570796326794897"
      ],
      "text/latex": [
       "0.570796326794897"
      ],
      "text/markdown": [
       "0.570796326794897"
      ],
      "text/plain": [
       "[1] 0.5707963"
      ]
     },
     "metadata": {},
     "output_type": "display_data"
    }
   ],
   "source": [
    "pi/2 - 1"
   ]
  },
  {
   "cell_type": "markdown",
   "metadata": {},
   "source": [
    "$E(X^2)$ berechnen durch partielles Integrieren:\n",
    "\n",
    "$$\n",
    "    E(X^2) = \\int_{-\\infty}^{+\\infty}{x^2f(x)dx} \n",
    "    = \\int_0^{\\pi/2} {x^2\\cos{x}dx} \\\\\n",
    "    \\int{u dv} = uv - \\int{v du} \\\\\n",
    "    u = x^2, du = 2xdx \\\\\n",
    "    dv = \\cos{x}dx, v = \\sin{x} \\\\\n",
    "    = x^2\\sin{x} - 2\\int_0^{\\pi/2} {x\\sin{x}dx} \\\\\n",
    "    u = x, du = dx \\\\\n",
    "    dv = \\sin{x}dx, v = -\\cos{x} \\\\    \n",
    "    = x^2\\sin{x} + 2x\\cos{x} - 2\\int_0^{\\pi/2}{\\cos{x}dx} \\\\\n",
    "    = x^2\\sin{x} + 2x\\cos{x} - 2\\sin{x} \\bigg|_0^{\\pi/2} = \\frac{\\pi^2}{4} - 2 \\approx 0.4674\n",
    "$$"
   ]
  },
  {
   "cell_type": "code",
   "execution_count": 8,
   "metadata": {},
   "outputs": [
    {
     "data": {
      "text/html": [
       "0.467401100272339"
      ],
      "text/latex": [
       "0.467401100272339"
      ],
      "text/markdown": [
       "0.467401100272339"
      ],
      "text/plain": [
       "[1] 0.4674011"
      ]
     },
     "metadata": {},
     "output_type": "display_data"
    }
   ],
   "source": [
    "pi**2/4 - 2"
   ]
  },
  {
   "cell_type": "markdown",
   "metadata": {},
   "source": [
    "$$\n",
    "    \\mathit{Var}(X) = E(X^2) - E(X)^2 = \\frac{\\pi^2}{4} - 2 - \\left(\\frac{\\pi}{2} - 1\\right)^2 = \n",
    "    \\frac{\\pi^2}{4} - 2 - \\frac{\\pi^2}{4} + \\pi - 1 = \\pi - 3 \\approx 0.1416\n",
    "$$"
   ]
  },
  {
   "cell_type": "code",
   "execution_count": 9,
   "metadata": {},
   "outputs": [
    {
     "data": {
      "text/html": [
       "0.141592653589793"
      ],
      "text/latex": [
       "0.141592653589793"
      ],
      "text/markdown": [
       "0.141592653589793"
      ],
      "text/plain": [
       "[1] 0.1415927"
      ]
     },
     "metadata": {},
     "output_type": "display_data"
    }
   ],
   "source": [
    "pi - 3"
   ]
  },
  {
   "cell_type": "markdown",
   "metadata": {},
   "source": [
    "### Aufgabe 6\n",
    "\n",
    "Die Zufallsvariablen 𝑋 und 𝑌 seien diskret verteilt. Die folgende Tabelle enthält die Wahrscheinlichkeiten $𝑃(𝑋=𝑖,𝑌=𝑘)$ für $𝑖=0,5,10,15$ und $𝑘=0,5,10$: \n",
    "\n",
    "$$\n",
    "\\begin{array}{|r|r|r|r|r|}\n",
    "\\hline\n",
    "k \\setminus i & 0 & 5 & 10 & 15 \\\\\n",
    "\\hline \n",
    "0 & 0 & 0 & 0.1 & 0.3 \\\\\n",
    "5 & 0 & 0.05 & 0.05 & 0.1 \\\\\n",
    "10 & 0.2 & 0.15 & 0.05 & 0 \\\\\n",
    "\\hline\n",
    "\\end{array}\n",
    "$$\n",
    "\n",
    "Berechnen Sie $E(X)$, $E(Y)$, $\\mathit{Var}(X)$, $\\mathit{Var}(Y)$ und $\\mathit{Cov}(X,Y)$. "
   ]
  },
  {
   "cell_type": "markdown",
   "metadata": {},
   "source": [
    "$$\n",
    "P(X=0) = 0.2\\\\ \n",
    "P(X=5) = 0.05 + 0.15 = 0.2\\\\\n",
    "P(X=10) = 0.1 + 0.05 + 0.05 = 0.2\\\\\n",
    "P(X=15) = 0.3 + 0.1 = 0.4 \\\\\n",
    "$$\n",
    "\n",
    "$$\n",
    "P(Y=0) = 0.1 + 0.3 = 0.4\\\\ \n",
    "P(Y=5) = 0.05 + 0.05 + 0.1 = 0.2\\\\\n",
    "P(Y=10) = 0.2 + 0.15 + 0.05 = 0.4\\\\\n",
    "$$\n",
    "\n",
    "$$\n",
    "E(X) = 5 \\cdot 0.2 + 10 \\cdot 0.2 + 15 \\cdot 0.4 = 1 + 2 + 6 = 9 \\\\\n",
    "E(Y) = 5 \\cdot 0.2 + 10 \\cdot 0.4  = 1 + 4 = 5\n",
    "$$\n",
    "\n",
    "$$\n",
    "E(X^2) = 25 \\cdot 0.2 + 100 \\cdot 0.2 + 225 \\cdot 0.4 = 5 + 20 + 90 = 115 \\\\\n",
    "E(Y^2) = 25 \\cdot 0.2 + 100 \\cdot 0.4  = 5 + 40 = 45\n",
    "$$\n",
    "\n",
    "$$\n",
    "\\mathit{Var}(X) = E(X^2) - E(X)^2 = 115 - 81 = 34 \\\\\n",
    "\\mathit{Var}(Y) = E(Y^2) - E(Y)^2 = 45 - 25 = 20\n",
    "$$\n",
    "\n",
    "$$\n",
    "E(XY) = 5 \\cdot 5 \\cdot 0.05 + 10 \\cdot 5 \\cdot 0.05 + 15 \\cdot 5 \\cdot 0.1 + \n",
    "        5 \\cdot 10 \\cdot 0.15 + 10 \\cdot 10 \\cdot 0.05 \\\\ \n",
    "        = 1.25 + 2.5 + 7.5 + 7.5 + 5 = 23.75\n",
    "$$\n",
    "\n",
    "$$\n",
    "    \\mathit{Cov}(X,Y) = E(XY) - E(X)E(Y) = 23.75 - 9 \\cdot 5 = 23.75 - 45 = -21.25\n",
    "$$"
   ]
  },
  {
   "cell_type": "code",
   "execution_count": 10,
   "metadata": {},
   "outputs": [],
   "source": [
    "i <- c(0, 5, 10, 15)\n",
    "k <- c(0, 5, 10)\n",
    "pik <- matrix(c(0, 0, 0.1, 0.3, 0, 0.05, 0.05, 0.1, 0.2, 0.15, 0.05, 0), nrow=3, ncol=4, byrow=TRUE)"
   ]
  },
  {
   "cell_type": "code",
   "execution_count": 11,
   "metadata": {},
   "outputs": [
    {
     "data": {
      "text/html": [
       "<ol class=list-inline>\n",
       "\t<li>0.2</li>\n",
       "\t<li>0.2</li>\n",
       "\t<li>0.2</li>\n",
       "\t<li>0.4</li>\n",
       "</ol>\n"
      ],
      "text/latex": [
       "\\begin{enumerate*}\n",
       "\\item 0.2\n",
       "\\item 0.2\n",
       "\\item 0.2\n",
       "\\item 0.4\n",
       "\\end{enumerate*}\n"
      ],
      "text/markdown": [
       "1. 0.2\n",
       "2. 0.2\n",
       "3. 0.2\n",
       "4. 0.4\n",
       "\n",
       "\n"
      ],
      "text/plain": [
       "[1] 0.2 0.2 0.2 0.4"
      ]
     },
     "metadata": {},
     "output_type": "display_data"
    },
    {
     "data": {
      "text/html": [
       "<ol class=list-inline>\n",
       "\t<li>0.4</li>\n",
       "\t<li>0.2</li>\n",
       "\t<li>0.4</li>\n",
       "</ol>\n"
      ],
      "text/latex": [
       "\\begin{enumerate*}\n",
       "\\item 0.4\n",
       "\\item 0.2\n",
       "\\item 0.4\n",
       "\\end{enumerate*}\n"
      ],
      "text/markdown": [
       "1. 0.4\n",
       "2. 0.2\n",
       "3. 0.4\n",
       "\n",
       "\n"
      ],
      "text/plain": [
       "[1] 0.4 0.2 0.4"
      ]
     },
     "metadata": {},
     "output_type": "display_data"
    }
   ],
   "source": [
    "px <- colSums(pik); px\n",
    "py <- rowSums(pik); py"
   ]
  },
  {
   "cell_type": "code",
   "execution_count": 12,
   "metadata": {},
   "outputs": [
    {
     "data": {
      "text/html": [
       "9"
      ],
      "text/latex": [
       "9"
      ],
      "text/markdown": [
       "9"
      ],
      "text/plain": [
       "[1] 9"
      ]
     },
     "metadata": {},
     "output_type": "display_data"
    },
    {
     "data": {
      "text/html": [
       "5"
      ],
      "text/latex": [
       "5"
      ],
      "text/markdown": [
       "5"
      ],
      "text/plain": [
       "[1] 5"
      ]
     },
     "metadata": {},
     "output_type": "display_data"
    }
   ],
   "source": [
    "EX <- sum(px * i); EX\n",
    "EY <- sum(py * k); EY"
   ]
  },
  {
   "cell_type": "code",
   "execution_count": 13,
   "metadata": {},
   "outputs": [
    {
     "data": {
      "text/html": [
       "115"
      ],
      "text/latex": [
       "115"
      ],
      "text/markdown": [
       "115"
      ],
      "text/plain": [
       "[1] 115"
      ]
     },
     "metadata": {},
     "output_type": "display_data"
    },
    {
     "data": {
      "text/html": [
       "45"
      ],
      "text/latex": [
       "45"
      ],
      "text/markdown": [
       "45"
      ],
      "text/plain": [
       "[1] 45"
      ]
     },
     "metadata": {},
     "output_type": "display_data"
    }
   ],
   "source": [
    "EX2 <- sum(px * i**2); EX2\n",
    "EY2 <- sum(py * k**2); EY2"
   ]
  },
  {
   "cell_type": "code",
   "execution_count": 14,
   "metadata": {},
   "outputs": [
    {
     "data": {
      "text/html": [
       "34"
      ],
      "text/latex": [
       "34"
      ],
      "text/markdown": [
       "34"
      ],
      "text/plain": [
       "[1] 34"
      ]
     },
     "metadata": {},
     "output_type": "display_data"
    },
    {
     "data": {
      "text/html": [
       "20"
      ],
      "text/latex": [
       "20"
      ],
      "text/markdown": [
       "20"
      ],
      "text/plain": [
       "[1] 20"
      ]
     },
     "metadata": {},
     "output_type": "display_data"
    }
   ],
   "source": [
    "EX2 - EX**2\n",
    "EY2 - EY**2"
   ]
  },
  {
   "cell_type": "code",
   "execution_count": 15,
   "metadata": {},
   "outputs": [
    {
     "data": {
      "text/html": [
       "<ol class=list-inline>\n",
       "\t<li>0</li>\n",
       "\t<li>5</li>\n",
       "\t<li>10</li>\n",
       "\t<li>15</li>\n",
       "</ol>\n"
      ],
      "text/latex": [
       "\\begin{enumerate*}\n",
       "\\item 0\n",
       "\\item 5\n",
       "\\item 10\n",
       "\\item 15\n",
       "\\end{enumerate*}\n"
      ],
      "text/markdown": [
       "1. 0\n",
       "2. 5\n",
       "3. 10\n",
       "4. 15\n",
       "\n",
       "\n"
      ],
      "text/plain": [
       "[1]  0  5 10 15"
      ]
     },
     "metadata": {},
     "output_type": "display_data"
    },
    {
     "data": {
      "text/html": [
       "<table>\n",
       "<tbody>\n",
       "\t<tr><td>0   </td><td>0.00</td><td>0.0 </td><td>0.0 </td></tr>\n",
       "\t<tr><td>0   </td><td>1.25</td><td>2.5 </td><td>7.5 </td></tr>\n",
       "\t<tr><td>0   </td><td>7.50</td><td>5.0 </td><td>0.0 </td></tr>\n",
       "</tbody>\n",
       "</table>\n"
      ],
      "text/latex": [
       "\\begin{tabular}{llll}\n",
       "\t 0    & 0.00 & 0.0  & 0.0 \\\\\n",
       "\t 0    & 1.25 & 2.5  & 7.5 \\\\\n",
       "\t 0    & 7.50 & 5.0  & 0.0 \\\\\n",
       "\\end{tabular}\n"
      ],
      "text/markdown": [
       "\n",
       "| 0    | 0.00 | 0.0  | 0.0  | \n",
       "| 0    | 1.25 | 2.5  | 7.5  | \n",
       "| 0    | 7.50 | 5.0  | 0.0  | \n",
       "\n",
       "\n"
      ],
      "text/plain": [
       "     [,1] [,2] [,3] [,4]\n",
       "[1,] 0    0.00 0.0  0.0 \n",
       "[2,] 0    1.25 2.5  7.5 \n",
       "[3,] 0    7.50 5.0  0.0 "
      ]
     },
     "metadata": {},
     "output_type": "display_data"
    },
    {
     "data": {
      "text/html": [
       "23.75"
      ],
      "text/latex": [
       "23.75"
      ],
      "text/markdown": [
       "23.75"
      ],
      "text/plain": [
       "[1] 23.75"
      ]
     },
     "metadata": {},
     "output_type": "display_data"
    },
    {
     "data": {
      "text/html": [
       "-21.25"
      ],
      "text/latex": [
       "-21.25"
      ],
      "text/markdown": [
       "-21.25"
      ],
      "text/plain": [
       "[1] -21.25"
      ]
     },
     "metadata": {},
     "output_type": "display_data"
    }
   ],
   "source": [
    "ir = rep(i,each=3); i\n",
    "ikpik = pik*ir*k; ikpik\n",
    "EXY = sum(ikpik); EXY\n",
    "Cov = EXY - EX*EY; Cov"
   ]
  },
  {
   "cell_type": "markdown",
   "metadata": {},
   "source": [
    "### Aufgabe 7\n",
    "\n",
    "Aus Erfahrung sei bekannt, dass die Brenndauer einer Glühbirne einer bestimmten Sorte durch eine stetig verteilte Zufallsvariable $X$ mit der Dichte\n",
    "\n",
    "$$\n",
    "f(x)=\\left\\{\n",
    "    \\begin{array}{ll}\n",
    "        2\\theta xe^{-\\theta x^2} & \\textrm{für } x>0\\\\\n",
    "        0 & \\textrm{sonst} \\\\\n",
    "    \\end{array}\n",
    "    \\right.\n",
    "$$\n",
    "\n",
    "$\\theta>0$, beschrieben werden kann. Das für diese Sorte passende $\\theta$ schätze man aufgrund der folgenden 15 Brenndauern mittels der Maximum-Likelihood-Methode. Brenndauern \\[in 1000 Stunden\\]:\n",
    "$$\n",
    " \\begin{array}{ccccc}\n",
    " 1.530 & 1.173 & 1.832 & 1.075 & 1.539 \\\\\n",
    "    0.998 & 2.083 & 0.693 & 2.529 & 1.693 \\\\\n",
    "    1.325 & 1.487 & 1.298 & 1.743 & 1.432 \\\\\n",
    "  \\end{array}$$"
   ]
  },
  {
   "cell_type": "code",
   "execution_count": 16,
   "metadata": {},
   "outputs": [],
   "source": [
    "bd <- c(1.530, 1.173, 1.832, 1.075, 1.539, 0.998, 2.083, 0.693, 2.529, 1.693, 1.325, 1.487, 1.298, 1.743, 1.432) "
   ]
  },
  {
   "cell_type": "markdown",
   "metadata": {},
   "source": [
    "Maximum-Likelihood Schätzfunktion:\n",
    "\n",
    "$$ \n",
    "        L(\\theta; x_1, \\ldots, x_{15}) \n",
    "        = \\prod_{i=1}^{15}{2\\theta x_ie^{-\\theta x_i^2}}\n",
    "        = 2^{15} \\theta^{15} \\left[ \\prod_{i=1}^{15}{x_i} \\right] e^{-\\theta \\sum_{i=1}^{15} {x_i^2}}\n",
    "        = a \\theta^{15} e^{-b\\theta}, a = 2^{15}\\prod_{i=1}^{15}{x_i}, b = \\sum_{i=1}^{15} {x_i^2}\n",
    "$$\n",
    "\n",
    "Logarithmieren:\n",
    "\n",
    "$$ \n",
    "        \\ln{L(\\theta; x_1, \\ldots, x_{15})}\n",
    "        = \\ln{a} + 15\\ln{\\theta} - b\\theta\n",
    "$$\n",
    "\n",
    "Differenzieren:\n",
    "\n",
    "$$ \n",
    "        \\ln{L(\\theta; x_1, \\ldots, x_{15})}'\n",
    "        = \\frac{15}{\\theta} - b\n",
    "$$\n",
    "\n",
    "für Maximum Null setzen:\n",
    "\n",
    "$$\n",
    "    \\frac{15}{\\theta} - b = 0 \\\\\n",
    "    \\hat{\\theta} = \\frac{15}{b} = \\frac{15}{\\sum_{i=1}^{15} {x_i^2}} = \\frac{15}{36.414702} \\approx 0.4119\n",
    "$$"
   ]
  },
  {
   "cell_type": "code",
   "execution_count": 17,
   "metadata": {},
   "outputs": [
    {
     "data": {
      "text/html": [
       "36.414702"
      ],
      "text/latex": [
       "36.414702"
      ],
      "text/markdown": [
       "36.414702"
      ],
      "text/plain": [
       "[1] 36.4147"
      ]
     },
     "metadata": {},
     "output_type": "display_data"
    },
    {
     "data": {
      "text/html": [
       "0.411921536526648"
      ],
      "text/latex": [
       "0.411921536526648"
      ],
      "text/markdown": [
       "0.411921536526648"
      ],
      "text/plain": [
       "[1] 0.4119215"
      ]
     },
     "metadata": {},
     "output_type": "display_data"
    }
   ],
   "source": [
    "sum(bd**2)\n",
    "length(bd)/sum(bd**2)"
   ]
  },
  {
   "cell_type": "markdown",
   "metadata": {},
   "source": [
    "### Aufgabe 8\n",
    "\n",
    "In einer Molkerei wurden bei zwei Maschinen, die Milch in Milchtüten abfüllen, die Füllmengen von 21 bzw. 9 Milchtüten bestimmt. Dabei erhielt man Messwerte $x_1,\\ldots,x_{21}$, $y_1,\\ldots,y_9$ (in ml) mit den empirischen Mittelwerten $\\overline{x}=501$ bzw. $\\overline{y}=503$ und den empirischen Varianzen $s^2_{(21)}=3.24$ bzw. $s^2_{(9)}=3.61$. Unter der Annahme, dass die angegebenen Messwerte eine Realisierung unabhängiger Zufallsvariablen $X_1,\\ldots,X_{21},Y_1,\\ldots,Y_9$ sind, wobei $X_1,\\ldots,X_{21}$ identisch $N(\\mu_1,\\sigma_1^2)$- und $Y_1,\\ldots,Y_9$ identisch $N(\\mu_2,\\sigma_2^2)$-verteilt sind, teste man\n",
    "\n",
    "a) unter der Annahme $\\sigma_1^2=\\sigma_2^2$ durch Anwendung eines geeigneten Testverfahrens zum Niveau 0.05 die Hypothese $\\mu_1\\geq\\mu_2$ gegen die Alternative $\\mu_1<\\mu_2$.   "
   ]
  },
  {
   "cell_type": "markdown",
   "metadata": {},
   "source": [
    "Prüfgröße:\n",
    "\n",
    "$$\n",
    "    T = \\sqrt{\\frac{n_x n_y (n_x + n_y - 2)}{n_x+n_y}} \n",
    "    \\cdot \\frac{\\overline{x}-\\overline{y}}{\\sqrt{(n_x-1)s_x^2+(n_y-1)s_y^2}} \n",
    "    = \\sqrt{\\frac{21 \\cdot 9 \\cdot 28}{30}} \\cdot \\frac{501 - 503}{\\sqrt{20\\cdot 3.24 + 8\\cdot 3.61}}\n",
    "    \\approx -2.744\n",
    "$$\n",
    "\n",
    "kritischer Wert:\n",
    "\n",
    "$$\n",
    "    t_{n_x+n_y-2;\\alpha} = t_{28; 0.05} \\approx -1.701\n",
    "$$\n",
    "\n",
    "$T < t_{28; 0.05} \\Rightarrow $ Ablehnung"
   ]
  },
  {
   "cell_type": "code",
   "execution_count": 18,
   "metadata": {},
   "outputs": [],
   "source": [
    "xq <- 501; yq <- 503; sx2 <- 3.24; sy2 <- 3.61; nx <- 21; ny <- 9"
   ]
  },
  {
   "cell_type": "code",
   "execution_count": 19,
   "metadata": {},
   "outputs": [
    {
     "data": {
      "text/html": [
       "-2.74445329914484"
      ],
      "text/latex": [
       "-2.74445329914484"
      ],
      "text/markdown": [
       "-2.74445329914484"
      ],
      "text/plain": [
       "[1] -2.744453"
      ]
     },
     "metadata": {},
     "output_type": "display_data"
    }
   ],
   "source": [
    "alpha <- 0.05\n",
    "T <- sqrt(nx*ny*(nx+ny-2)/(nx+ny)) * (xq-yq) / sqrt((nx-1)*sx2 + (ny-1)*sy2); T"
   ]
  },
  {
   "cell_type": "code",
   "execution_count": 20,
   "metadata": {},
   "outputs": [
    {
     "data": {
      "text/html": [
       "-1.70113093426593"
      ],
      "text/latex": [
       "-1.70113093426593"
      ],
      "text/markdown": [
       "-1.70113093426593"
      ],
      "text/plain": [
       "[1] -1.701131"
      ]
     },
     "metadata": {},
     "output_type": "display_data"
    }
   ],
   "source": [
    "qt(alpha, df=nx+ny-2)"
   ]
  },
  {
   "cell_type": "markdown",
   "metadata": {},
   "source": [
    "b) durch Anwendung eines geeigneten Testverfahrens zum Niveau 0.1, ob aufgrund des angegebenen Datenmaterials die unter a) gemachte Annahme $\\sigma_1^2=\\sigma_2^2$ gegen $\\sigma_1^2\\neq \\sigma_2^2$ zu verwerfen ist."
   ]
  },
  {
   "cell_type": "markdown",
   "metadata": {},
   "source": [
    "Prüfgröße:\n",
    "\n",
    "$$\n",
    "    T = \\frac{s_x^2}{s_y^2} = \\frac{3.24}{3.61} \\approx 0.8975\n",
    "$$\n",
    "\n",
    "kritischer Bereich:\n",
    "\n",
    "$$\n",
    "    F_{n_x-1;n_y-1;\\alpha/2} = F_{20;8;0.05} \\approx 0.4087 \\\\\n",
    "    F_{n_x-1;n_y-1;1-\\alpha/2} = F_{20;8;0.95} \\approx 3.1503 \n",
    "$$\n",
    "\n",
    "$F_{20;8;0.05} < T < F_{20;8;0.95} \\Rightarrow$ keine Ablehnung"
   ]
  },
  {
   "cell_type": "code",
   "execution_count": 21,
   "metadata": {},
   "outputs": [
    {
     "data": {
      "text/html": [
       "0.897506925207756"
      ],
      "text/latex": [
       "0.897506925207756"
      ],
      "text/markdown": [
       "0.897506925207756"
      ],
      "text/plain": [
       "[1] 0.8975069"
      ]
     },
     "metadata": {},
     "output_type": "display_data"
    },
    {
     "data": {
      "text/html": [
       "0.408653023782299"
      ],
      "text/latex": [
       "0.408653023782299"
      ],
      "text/markdown": [
       "0.408653023782299"
      ],
      "text/plain": [
       "[1] 0.408653"
      ]
     },
     "metadata": {},
     "output_type": "display_data"
    },
    {
     "data": {
      "text/html": [
       "3.15032377350285"
      ],
      "text/latex": [
       "3.15032377350285"
      ],
      "text/markdown": [
       "3.15032377350285"
      ],
      "text/plain": [
       "[1] 3.150324"
      ]
     },
     "metadata": {},
     "output_type": "display_data"
    }
   ],
   "source": [
    "alpha <- 0.1\n",
    "\n",
    "T = sx2/sy2; T\n",
    "\n",
    "qf(alpha/2, nx-1, ny-1)\n",
    "qf(1-alpha/2, nx-1, ny-1)"
   ]
  },
  {
   "cell_type": "markdown",
   "metadata": {},
   "source": [
    "### Aufgabe 9\n",
    "\n",
    "Ein Walzwerk liefert Eisenplatten, die von 4 verschiedenen Walzen stammen. Der Verwendungszweck dieser Platten erfordert, dass sie alle die gleiche Dicke besitzen. Zur Untersuchung dieses Merkmals wurden 20 Platten nachgemessen, wobei von jeder der Walzen jeweils 5 dieser Platten stammten. Es ergaben sich folgende Werte (in mm):\n",
    "\n",
    "$$\n",
    "\\begin{array}{|c|ccccc|}\n",
    "  \\hline\n",
    "  \\mathrm{Walzen Nr. } \\setminus \\mathrm{Platten Nr.} & 1 & 2 & 3 & 4 & 5 \\\\ \\hline\n",
    "  1 & 9.34 & 9.38 & 9.12 & 9.32 & 9.28 \\\\\n",
    "  2 & 9.67 & 9.51 & 9.61 & 9.52 & 9.57 \\\\\n",
    "  3 & 9.14 & 9.13 & 9.06 & 9.02 & 9.07 \\\\\n",
    "  4 & 9.71 & 9.75 & 9.50 & 9.54 & 9.55 \\\\\n",
    "  \\hline\n",
    "\\end{array}\n",
    "$$\n",
    "\n",
    "Es bezeichne $x_{ij}$ die Dicke der $j$-ten Platte von der $i$-ten Walze $(1 \\leq i \\leq 4, 1 \\leq j \\leq 5)$. Unter der Annahme, dass die Messwerte $x_{ij}$ eine Realisierung von unabhängigen für gleiches $i$ identisch $N(\\mu_i,\\sigma^2)$-verteilten Zufallsvariablen sind, überprüfe man durch Anwendung einer einfachen Varianzanalyse zum Niveau 0.01 die Annahme, dass die mittlere Plattendicke bei allen 4 Walzen gleich ist.\n"
   ]
  },
  {
   "cell_type": "code",
   "execution_count": 22,
   "metadata": {},
   "outputs": [],
   "source": [
    "x <- c(9.34, 9.38, 9.12, 9.32, 9.28, 9.67, 9.51, 9.61, 9.52, 9.57, 9.14, 9.13, 9.06, 9.02, 9.07, 9.71, 9.75, 9.50, 9.54, 9.55)"
   ]
  },
  {
   "cell_type": "markdown",
   "metadata": {},
   "source": [
    "Gesamtsumme:\n",
    "\n",
    "$$\n",
    "    x_{..} = \\sum_{i=1}^{r}{\\sum_{j=1}^n {x_{ij}}} = 187.79\n",
    "$$\n",
    "\n",
    "Summe der Quadratischen Abweichungen Total (SQT):\n",
    "\n",
    "$$\n",
    "    SQT = \\sum_{i=1}^{r}{\\sum_{j=1}^n {x_{ij}^2 - \\frac{x_{..}^2}{nr}}} = 1764.3077 - \\frac{35265.0841}{20}\n",
    "    \\approx 1.0535\n",
    "$$\n",
    "\n",
    "Summe der Quadratischen Abweichungen zwischen den Gruppen (SQA):\n",
    "\n",
    "$$\n",
    "    x_{i.} = \\sum_{j=1}^n {x_{ij}} \\\\\n",
    "    SQA = \\frac{1}{n}\\sum_{i=1}^{r}{x_{i.}^2 - \\frac{x_{..}^2}{nr}} = \n",
    "    \\frac{1}{5}\\left(46.44^2 + 47.88^2 + 45.42^2 + 48.05^2 \\right)- \\frac{35265.0841}{20}\n",
    "    \\approx 0.9352\n",
    "$$\n",
    "\n",
    "Summe der Quadratischen Abweichungen innerhalb der Gruppen (SQR):\n",
    "\n",
    "$$\n",
    "    SQR = SQT - SQA \\approx 0.1183\n",
    "$$\n",
    "\n",
    "Freiheitsgrade:\n",
    "\n",
    "$$\n",
    "    \\nu_A = r - 1 = 3 \\\\\n",
    "    \\nu_R = nr - r = 16\n",
    "$$\n",
    "\n",
    "Mittlere Quadratsummen:\n",
    "\n",
    "$$\n",
    "    MQA = \\frac{SQA}{\\nu_A} \\approx 0.3117 \\\\\n",
    "    MQR = \\frac{SQR}{\\nu_R} \\approx 0.0074\n",
    "$$\n",
    "\n",
    "Prüfgröße:\n",
    "\n",
    "$$\n",
    "    T = \\frac{MQA}{MQR} \\approx 42.1535\n",
    "$$\n",
    "\n",
    "kritischer Wert:\n",
    "\n",
    "$$\n",
    "    F_{r-1;nr-r;1-\\alpha} = F_{3;16;0.99} \\approx 5.2922\n",
    "$$\n",
    "\n",
    "$ T > F_{3;16;0.99} \\Rightarrow$ Ablehnung"
   ]
  },
  {
   "cell_type": "code",
   "execution_count": 23,
   "metadata": {},
   "outputs": [
    {
     "data": {
      "text/html": [
       "187.79"
      ],
      "text/latex": [
       "187.79"
      ],
      "text/markdown": [
       "187.79"
      ],
      "text/plain": [
       "[1] 187.79"
      ]
     },
     "metadata": {},
     "output_type": "display_data"
    },
    {
     "data": {
      "text/html": [
       "35265.0841"
      ],
      "text/latex": [
       "35265.0841"
      ],
      "text/markdown": [
       "35265.0841"
      ],
      "text/plain": [
       "[1] 35265.08"
      ]
     },
     "metadata": {},
     "output_type": "display_data"
    },
    {
     "data": {
      "text/html": [
       "1764.3077"
      ],
      "text/latex": [
       "1764.3077"
      ],
      "text/markdown": [
       "1764.3077"
      ],
      "text/plain": [
       "[1] 1764.308"
      ]
     },
     "metadata": {},
     "output_type": "display_data"
    },
    {
     "data": {
      "text/html": [
       "1.05349500000011"
      ],
      "text/latex": [
       "1.05349500000011"
      ],
      "text/markdown": [
       "1.05349500000011"
      ],
      "text/plain": [
       "[1] 1.053495"
      ]
     },
     "metadata": {},
     "output_type": "display_data"
    }
   ],
   "source": [
    "n <- 5; r <- 4\n",
    "sum(x)\n",
    "sum(x)**2\n",
    "sum(x**2)\n",
    "SQT <- sum(x**2) - sum(x)**2/(n*r); SQT"
   ]
  },
  {
   "cell_type": "code",
   "execution_count": 24,
   "metadata": {},
   "outputs": [
    {
     "data": {
      "text/html": [
       "<table>\n",
       "<tbody>\n",
       "\t<tr><td>9.34</td><td>9.38</td><td>9.12</td><td>9.32</td><td>9.28</td></tr>\n",
       "\t<tr><td>9.67</td><td>9.51</td><td>9.61</td><td>9.52</td><td>9.57</td></tr>\n",
       "\t<tr><td>9.14</td><td>9.13</td><td>9.06</td><td>9.02</td><td>9.07</td></tr>\n",
       "\t<tr><td>9.71</td><td>9.75</td><td>9.50</td><td>9.54</td><td>9.55</td></tr>\n",
       "</tbody>\n",
       "</table>\n"
      ],
      "text/latex": [
       "\\begin{tabular}{lllll}\n",
       "\t 9.34 & 9.38 & 9.12 & 9.32 & 9.28\\\\\n",
       "\t 9.67 & 9.51 & 9.61 & 9.52 & 9.57\\\\\n",
       "\t 9.14 & 9.13 & 9.06 & 9.02 & 9.07\\\\\n",
       "\t 9.71 & 9.75 & 9.50 & 9.54 & 9.55\\\\\n",
       "\\end{tabular}\n"
      ],
      "text/markdown": [
       "\n",
       "| 9.34 | 9.38 | 9.12 | 9.32 | 9.28 | \n",
       "| 9.67 | 9.51 | 9.61 | 9.52 | 9.57 | \n",
       "| 9.14 | 9.13 | 9.06 | 9.02 | 9.07 | \n",
       "| 9.71 | 9.75 | 9.50 | 9.54 | 9.55 | \n",
       "\n",
       "\n"
      ],
      "text/plain": [
       "     [,1] [,2] [,3] [,4] [,5]\n",
       "[1,] 9.34 9.38 9.12 9.32 9.28\n",
       "[2,] 9.67 9.51 9.61 9.52 9.57\n",
       "[3,] 9.14 9.13 9.06 9.02 9.07\n",
       "[4,] 9.71 9.75 9.50 9.54 9.55"
      ]
     },
     "metadata": {},
     "output_type": "display_data"
    },
    {
     "data": {
      "text/html": [
       "<ol class=list-inline>\n",
       "\t<li>46.44</li>\n",
       "\t<li>47.88</li>\n",
       "\t<li>45.42</li>\n",
       "\t<li>48.05</li>\n",
       "</ol>\n"
      ],
      "text/latex": [
       "\\begin{enumerate*}\n",
       "\\item 46.44\n",
       "\\item 47.88\n",
       "\\item 45.42\n",
       "\\item 48.05\n",
       "\\end{enumerate*}\n"
      ],
      "text/markdown": [
       "1. 46.44\n",
       "2. 47.88\n",
       "3. 45.42\n",
       "4. 48.05\n",
       "\n",
       "\n"
      ],
      "text/plain": [
       "[1] 46.44 47.88 45.42 48.05"
      ]
     },
     "metadata": {},
     "output_type": "display_data"
    },
    {
     "data": {
      "text/html": [
       "0.935174999999845"
      ],
      "text/latex": [
       "0.935174999999845"
      ],
      "text/markdown": [
       "0.935174999999845"
      ],
      "text/plain": [
       "[1] 0.935175"
      ]
     },
     "metadata": {},
     "output_type": "display_data"
    }
   ],
   "source": [
    "m <- matrix(x, nrow=4, ncol=5, byrow=TRUE); m\n",
    "rowSums(m)\n",
    "SQA <- sum(rowSums(m)**2)/n - sum(x)**2/(n*r); SQA"
   ]
  },
  {
   "cell_type": "code",
   "execution_count": 25,
   "metadata": {},
   "outputs": [
    {
     "data": {
      "text/html": [
       "0.118320000000267"
      ],
      "text/latex": [
       "0.118320000000267"
      ],
      "text/markdown": [
       "0.118320000000267"
      ],
      "text/plain": [
       "[1] 0.11832"
      ]
     },
     "metadata": {},
     "output_type": "display_data"
    }
   ],
   "source": [
    "SQR <- SQT - SQA; SQR"
   ]
  },
  {
   "cell_type": "code",
   "execution_count": 26,
   "metadata": {},
   "outputs": [
    {
     "data": {
      "text/html": [
       "3"
      ],
      "text/latex": [
       "3"
      ],
      "text/markdown": [
       "3"
      ],
      "text/plain": [
       "[1] 3"
      ]
     },
     "metadata": {},
     "output_type": "display_data"
    },
    {
     "data": {
      "text/html": [
       "16"
      ],
      "text/latex": [
       "16"
      ],
      "text/markdown": [
       "16"
      ],
      "text/plain": [
       "[1] 16"
      ]
     },
     "metadata": {},
     "output_type": "display_data"
    }
   ],
   "source": [
    "nyA <- r - 1; nyA\n",
    "nyR <- n*r -r; nyR"
   ]
  },
  {
   "cell_type": "code",
   "execution_count": 27,
   "metadata": {},
   "outputs": [
    {
     "data": {
      "text/html": [
       "0.311724999999948"
      ],
      "text/latex": [
       "0.311724999999948"
      ],
      "text/markdown": [
       "0.311724999999948"
      ],
      "text/plain": [
       "[1] 0.311725"
      ]
     },
     "metadata": {},
     "output_type": "display_data"
    },
    {
     "data": {
      "text/html": [
       "0.00739500000001669"
      ],
      "text/latex": [
       "0.00739500000001669"
      ],
      "text/markdown": [
       "0.00739500000001669"
      ],
      "text/plain": [
       "[1] 0.007395"
      ]
     },
     "metadata": {},
     "output_type": "display_data"
    }
   ],
   "source": [
    "MQA <- SQA / nyA; MQA\n",
    "MQR <- SQR / nyR; MQR"
   ]
  },
  {
   "cell_type": "code",
   "execution_count": 28,
   "metadata": {},
   "outputs": [
    {
     "data": {
      "text/html": [
       "42.153482082386"
      ],
      "text/latex": [
       "42.153482082386"
      ],
      "text/markdown": [
       "42.153482082386"
      ],
      "text/plain": [
       "[1] 42.15348"
      ]
     },
     "metadata": {},
     "output_type": "display_data"
    },
    {
     "data": {
      "text/html": [
       "5.29221404552095"
      ],
      "text/latex": [
       "5.29221404552095"
      ],
      "text/markdown": [
       "5.29221404552095"
      ],
      "text/plain": [
       "[1] 5.292214"
      ]
     },
     "metadata": {},
     "output_type": "display_data"
    }
   ],
   "source": [
    "alpha <- 0.01\n",
    "MQA/MQR\n",
    "qf(1-alpha, nyA, nyR)"
   ]
  },
  {
   "cell_type": "code",
   "execution_count": 29,
   "metadata": {},
   "outputs": [
    {
     "data": {
      "text/html": [
       "<ol class=list-inline>\n",
       "\t<li>1</li>\n",
       "\t<li>1</li>\n",
       "\t<li>1</li>\n",
       "\t<li>1</li>\n",
       "\t<li>1</li>\n",
       "\t<li>2</li>\n",
       "\t<li>2</li>\n",
       "\t<li>2</li>\n",
       "\t<li>2</li>\n",
       "\t<li>2</li>\n",
       "\t<li>3</li>\n",
       "\t<li>3</li>\n",
       "\t<li>3</li>\n",
       "\t<li>3</li>\n",
       "\t<li>3</li>\n",
       "\t<li>4</li>\n",
       "\t<li>4</li>\n",
       "\t<li>4</li>\n",
       "\t<li>4</li>\n",
       "\t<li>4</li>\n",
       "</ol>\n"
      ],
      "text/latex": [
       "\\begin{enumerate*}\n",
       "\\item 1\n",
       "\\item 1\n",
       "\\item 1\n",
       "\\item 1\n",
       "\\item 1\n",
       "\\item 2\n",
       "\\item 2\n",
       "\\item 2\n",
       "\\item 2\n",
       "\\item 2\n",
       "\\item 3\n",
       "\\item 3\n",
       "\\item 3\n",
       "\\item 3\n",
       "\\item 3\n",
       "\\item 4\n",
       "\\item 4\n",
       "\\item 4\n",
       "\\item 4\n",
       "\\item 4\n",
       "\\end{enumerate*}\n"
      ],
      "text/markdown": [
       "1. 1\n",
       "2. 1\n",
       "3. 1\n",
       "4. 1\n",
       "5. 1\n",
       "6. 2\n",
       "7. 2\n",
       "8. 2\n",
       "9. 2\n",
       "10. 2\n",
       "11. 3\n",
       "12. 3\n",
       "13. 3\n",
       "14. 3\n",
       "15. 3\n",
       "16. 4\n",
       "17. 4\n",
       "18. 4\n",
       "19. 4\n",
       "20. 4\n",
       "\n",
       "\n"
      ],
      "text/plain": [
       " [1] 1 1 1 1 1 2 2 2 2 2 3 3 3 3 3 4 4 4 4 4"
      ]
     },
     "metadata": {},
     "output_type": "display_data"
    },
    {
     "data": {
      "text/html": [
       "<table>\n",
       "<thead><tr><th scope=col>x</th><th scope=col>g</th></tr></thead>\n",
       "<tbody>\n",
       "\t<tr><td>9.34</td><td>1   </td></tr>\n",
       "\t<tr><td>9.38</td><td>1   </td></tr>\n",
       "\t<tr><td>9.12</td><td>1   </td></tr>\n",
       "\t<tr><td>9.32</td><td>1   </td></tr>\n",
       "\t<tr><td>9.28</td><td>1   </td></tr>\n",
       "\t<tr><td>9.67</td><td>2   </td></tr>\n",
       "\t<tr><td>9.51</td><td>2   </td></tr>\n",
       "\t<tr><td>9.61</td><td>2   </td></tr>\n",
       "\t<tr><td>9.52</td><td>2   </td></tr>\n",
       "\t<tr><td>9.57</td><td>2   </td></tr>\n",
       "\t<tr><td>9.14</td><td>3   </td></tr>\n",
       "\t<tr><td>9.13</td><td>3   </td></tr>\n",
       "\t<tr><td>9.06</td><td>3   </td></tr>\n",
       "\t<tr><td>9.02</td><td>3   </td></tr>\n",
       "\t<tr><td>9.07</td><td>3   </td></tr>\n",
       "\t<tr><td>9.71</td><td>4   </td></tr>\n",
       "\t<tr><td>9.75</td><td>4   </td></tr>\n",
       "\t<tr><td>9.50</td><td>4   </td></tr>\n",
       "\t<tr><td>9.54</td><td>4   </td></tr>\n",
       "\t<tr><td>9.55</td><td>4   </td></tr>\n",
       "</tbody>\n",
       "</table>\n"
      ],
      "text/latex": [
       "\\begin{tabular}{r|ll}\n",
       " x & g\\\\\n",
       "\\hline\n",
       "\t 9.34 & 1   \\\\\n",
       "\t 9.38 & 1   \\\\\n",
       "\t 9.12 & 1   \\\\\n",
       "\t 9.32 & 1   \\\\\n",
       "\t 9.28 & 1   \\\\\n",
       "\t 9.67 & 2   \\\\\n",
       "\t 9.51 & 2   \\\\\n",
       "\t 9.61 & 2   \\\\\n",
       "\t 9.52 & 2   \\\\\n",
       "\t 9.57 & 2   \\\\\n",
       "\t 9.14 & 3   \\\\\n",
       "\t 9.13 & 3   \\\\\n",
       "\t 9.06 & 3   \\\\\n",
       "\t 9.02 & 3   \\\\\n",
       "\t 9.07 & 3   \\\\\n",
       "\t 9.71 & 4   \\\\\n",
       "\t 9.75 & 4   \\\\\n",
       "\t 9.50 & 4   \\\\\n",
       "\t 9.54 & 4   \\\\\n",
       "\t 9.55 & 4   \\\\\n",
       "\\end{tabular}\n"
      ],
      "text/markdown": [
       "\n",
       "x | g | \n",
       "|---|---|---|---|---|---|---|---|---|---|---|---|---|---|---|---|---|---|---|---|\n",
       "| 9.34 | 1    | \n",
       "| 9.38 | 1    | \n",
       "| 9.12 | 1    | \n",
       "| 9.32 | 1    | \n",
       "| 9.28 | 1    | \n",
       "| 9.67 | 2    | \n",
       "| 9.51 | 2    | \n",
       "| 9.61 | 2    | \n",
       "| 9.52 | 2    | \n",
       "| 9.57 | 2    | \n",
       "| 9.14 | 3    | \n",
       "| 9.13 | 3    | \n",
       "| 9.06 | 3    | \n",
       "| 9.02 | 3    | \n",
       "| 9.07 | 3    | \n",
       "| 9.71 | 4    | \n",
       "| 9.75 | 4    | \n",
       "| 9.50 | 4    | \n",
       "| 9.54 | 4    | \n",
       "| 9.55 | 4    | \n",
       "\n",
       "\n"
      ],
      "text/plain": [
       "   x    g\n",
       "1  9.34 1\n",
       "2  9.38 1\n",
       "3  9.12 1\n",
       "4  9.32 1\n",
       "5  9.28 1\n",
       "6  9.67 2\n",
       "7  9.51 2\n",
       "8  9.61 2\n",
       "9  9.52 2\n",
       "10 9.57 2\n",
       "11 9.14 3\n",
       "12 9.13 3\n",
       "13 9.06 3\n",
       "14 9.02 3\n",
       "15 9.07 3\n",
       "16 9.71 4\n",
       "17 9.75 4\n",
       "18 9.50 4\n",
       "19 9.54 4\n",
       "20 9.55 4"
      ]
     },
     "metadata": {},
     "output_type": "display_data"
    }
   ],
   "source": [
    "rep(1:4,each=5)\n",
    "g <- factor(rep(1:4,each=5))\n",
    "data <- data.frame(x, g); data"
   ]
  },
  {
   "cell_type": "code",
   "execution_count": 30,
   "metadata": {},
   "outputs": [
    {
     "data": {
      "text/html": [
       "<table>\n",
       "<thead><tr><th></th><th scope=col>Df</th><th scope=col>Sum Sq</th><th scope=col>Mean Sq</th><th scope=col>F value</th><th scope=col>Pr(&gt;F)</th></tr></thead>\n",
       "<tbody>\n",
       "\t<tr><th scope=row>g</th><td> 3          </td><td>0.935175    </td><td>0.311725    </td><td>42.15348    </td><td>8.018743e-08</td></tr>\n",
       "\t<tr><th scope=row>Residuals</th><td>16          </td><td>0.118320    </td><td>0.007395    </td><td>      NA    </td><td>          NA</td></tr>\n",
       "</tbody>\n",
       "</table>\n"
      ],
      "text/latex": [
       "\\begin{tabular}{r|lllll}\n",
       "  & Df & Sum Sq & Mean Sq & F value & Pr(>F)\\\\\n",
       "\\hline\n",
       "\tg &  3           & 0.935175     & 0.311725     & 42.15348     & 8.018743e-08\\\\\n",
       "\tResiduals & 16           & 0.118320     & 0.007395     &       NA     &           NA\\\\\n",
       "\\end{tabular}\n"
      ],
      "text/markdown": [
       "\n",
       "| <!--/--> | Df | Sum Sq | Mean Sq | F value | Pr(>F) | \n",
       "|---|---|\n",
       "| g |  3           | 0.935175     | 0.311725     | 42.15348     | 8.018743e-08 | \n",
       "| Residuals | 16           | 0.118320     | 0.007395     |       NA     |           NA | \n",
       "\n",
       "\n"
      ],
      "text/plain": [
       "          Df Sum Sq   Mean Sq  F value  Pr(>F)      \n",
       "g          3 0.935175 0.311725 42.15348 8.018743e-08\n",
       "Residuals 16 0.118320 0.007395       NA           NA"
      ]
     },
     "metadata": {},
     "output_type": "display_data"
    }
   ],
   "source": [
    "fit <- lm(x ~ g, data)\n",
    "anova(fit)"
   ]
  },
  {
   "cell_type": "markdown",
   "metadata": {},
   "source": [
    "### Aufgabe 10\n",
    "\n",
    "$$\n",
    "\\begin{array}{|l|r|r|r|r|r|r|r|r|r|}\n",
    "  \\hline\n",
    "  X & 8 & 10 & 11 & 14 & 15 & 17 & 19 & 20   \\\\ \\hline\n",
    "  Y & 110 & 150 & 144 & 180 & 210 & 220 & 250 & 265 \\\\\n",
    "  \\hline\n",
    "\\end{array}\n",
    "$$"
   ]
  },
  {
   "cell_type": "code",
   "execution_count": 31,
   "metadata": {},
   "outputs": [],
   "source": [
    "x <- c(-2,-1,,14,15,17,19,20)\n",
    "y <- c(110,150,144,180,210,220,250,265)"
   ]
  },
  {
   "cell_type": "markdown",
   "metadata": {},
   "source": [
    "a) Bestimmen Sie $\\hat{y}=a+bx$.    "
   ]
  },
  {
   "cell_type": "markdown",
   "metadata": {},
   "source": [
    "$$\n",
    "    b = \\frac{n\\sum_{i=1}^n{x_iy_i} - \\sum_{i=1}^n{x_i}\\sum_{i=1}^n{y_i}}\n",
    "    {n\\sum_{i=1}^n{x_i^2} - \\left( \\sum_{i=1}^n{x_i} \\right)^2} \n",
    "    \\approx 12.439\n",
    "$$\n",
    "\n",
    "$$\n",
    "    a = \\overline{y} - b\\overline{x} \\approx 13.867\n",
    "$$\n",
    "\n",
    "$$\n",
    "    \\hat{y} \\approx 13.867 + 12.439x \n",
    "$$"
   ]
  },
  {
   "cell_type": "code",
   "execution_count": 32,
   "metadata": {},
   "outputs": [
    {
     "data": {
      "text/html": [
       "8"
      ],
      "text/latex": [
       "8"
      ],
      "text/markdown": [
       "8"
      ],
      "text/plain": [
       "[1] 8"
      ]
     },
     "metadata": {},
     "output_type": "display_data"
    },
    {
     "data": {
      "text/html": [
       "12.4391634980989"
      ],
      "text/latex": [
       "12.4391634980989"
      ],
      "text/markdown": [
       "12.4391634980989"
      ],
      "text/plain": [
       "[1] 12.43916"
      ]
     },
     "metadata": {},
     "output_type": "display_data"
    },
    {
     "data": {
      "text/html": [
       "13.8669201520913"
      ],
      "text/latex": [
       "13.8669201520913"
      ],
      "text/markdown": [
       "13.8669201520913"
      ],
      "text/plain": [
       "[1] 13.86692"
      ]
     },
     "metadata": {},
     "output_type": "display_data"
    }
   ],
   "source": [
    "n <- length(x); n\n",
    "b <- (n*sum(x*y) - sum(x)*sum(y))/(n*sum(x**2) - (sum(x)**2)); b\n",
    "a <- mean(y) - b*mean(x); a"
   ]
  },
  {
   "cell_type": "code",
   "execution_count": 33,
   "metadata": {},
   "outputs": [
    {
     "data": {
      "text/plain": [
       "\n",
       "Call:\n",
       "lm(formula = y ~ x)\n",
       "\n",
       "Coefficients:\n",
       "(Intercept)            x  \n",
       "      13.87        12.44  \n"
      ]
     },
     "metadata": {},
     "output_type": "display_data"
    }
   ],
   "source": [
    "fit <- lm(y~x); fit"
   ]
  },
  {
   "cell_type": "markdown",
   "metadata": {},
   "source": [
    "b) Plotten Sie die Datenpunkte und fügen Sie die Regressionsgerade hinzu.   "
   ]
  },
  {
   "cell_type": "code",
   "execution_count": 34,
   "metadata": {},
   "outputs": [
    {
     "data": {
      "image/png": "[encoded data removed]",
      "text/plain": [
       "plot without title"
      ]
     },
     "metadata": {},
     "output_type": "display_data"
    }
   ],
   "source": [
    "options(repr.plot.width=5, repr.plot.height=5)\n",
    "plot(x, y, pch = 16, cex = 1.3, col = \"blue\", xlab = \"X\", ylab = \"Y\")\n",
    "abline(fit)"
   ]
  },
  {
   "cell_type": "markdown",
   "metadata": {},
   "source": [
    "c) Prüfen Sie, ob der Stichprobenregressionskoeffizient $b$ gegen 0 gesichert ist ($\\alpha=0.01$)."
   ]
  },
  {
   "cell_type": "markdown",
   "metadata": {},
   "source": [
    "t-Test:\n",
    "\n",
    "$$\n",
    "    H_0: b=0 \\\\\n",
    "    H_A: b\\neq 0 \\\\\n",
    "    \\nu = 6\n",
    "$$\n",
    "\n",
    "Prüfgröße:\n",
    "\n",
    "$$\n",
    "    s_E = \\sqrt{\\frac{1}{n-2}\\left( \\sum_{i=1}^n{y_i^2} - a\\sum_{i=1}^n{y_i} - b\\sum_{i=1}^n{x_iy_i} \\right)}\n",
    "    \\approx 7.995 \\\\\n",
    "    s_B = \\frac{s_E}{\\sqrt{\\sum_{i=1}^n{x_i^2}- \\frac{\\left( \\sum_{i=1}^n{x_i} \\right)^2}{n}}} \n",
    "    \\approx 0.697 \\\\\n",
    "    T = \\frac{b}{s_B} \\approx 17.842\n",
    "$$\n",
    "\n",
    "kritischer Wert:\n",
    "\n",
    "$$\n",
    "    t_{\\nu;1-\\alpha/2} = t_{6;0.995} \\approx 3.707\n",
    "$$\n",
    "\n",
    "$T > t_{6;0.995} \\Rightarrow$ Ablehnung, Daten korrelieren"
   ]
  },
  {
   "cell_type": "code",
   "execution_count": 35,
   "metadata": {},
   "outputs": [
    {
     "data": {
      "text/html": [
       "7.99492868411806"
      ],
      "text/latex": [
       "7.99492868411806"
      ],
      "text/markdown": [
       "7.99492868411806"
      ],
      "text/plain": [
       "[1] 7.994929"
      ]
     },
     "metadata": {},
     "output_type": "display_data"
    },
    {
     "data": {
      "text/html": [
       "0.697190912554477"
      ],
      "text/latex": [
       "0.697190912554477"
      ],
      "text/markdown": [
       "0.697190912554477"
      ],
      "text/plain": [
       "[1] 0.6971909"
      ]
     },
     "metadata": {},
     "output_type": "display_data"
    },
    {
     "data": {
      "text/html": [
       "17.8418325226333"
      ],
      "text/latex": [
       "17.8418325226333"
      ],
      "text/markdown": [
       "17.8418325226333"
      ],
      "text/plain": [
       "[1] 17.84183"
      ]
     },
     "metadata": {},
     "output_type": "display_data"
    },
    {
     "data": {
      "text/html": [
       "3.70742802132478"
      ],
      "text/latex": [
       "3.70742802132478"
      ],
      "text/markdown": [
       "3.70742802132478"
      ],
      "text/plain": [
       "[1] 3.707428"
      ]
     },
     "metadata": {},
     "output_type": "display_data"
    }
   ],
   "source": [
    "alpha <- 0.01\n",
    "se <- sqrt((sum(y**2) - a*sum(y) - b*sum(x*y))/(n-2)); se\n",
    "sb <- se/(sqrt(sum(x**2) - sum(x)**2/n)); sb\n",
    "b/sb\n",
    "qt(1-alpha/2, n-2)"
   ]
  },
  {
   "cell_type": "code",
   "execution_count": 36,
   "metadata": {},
   "outputs": [
    {
     "data": {
      "text/html": [
       "7.99492868411793"
      ],
      "text/latex": [
       "7.99492868411793"
      ],
      "text/markdown": [
       "7.99492868411793"
      ],
      "text/plain": [
       "[1] 7.994929"
      ]
     },
     "metadata": {},
     "output_type": "display_data"
    },
    {
     "data": {
      "text/html": [
       "<table>\n",
       "<thead><tr><th></th><th scope=col>Estimate</th><th scope=col>Std. Error</th><th scope=col>t value</th><th scope=col>Pr(&gt;|t|)</th></tr></thead>\n",
       "<tbody>\n",
       "\t<tr><th scope=row>(Intercept)</th><td>13.86692    </td><td>10.3292545  </td><td> 1.34249    </td><td>2.279988e-01</td></tr>\n",
       "\t<tr><th scope=row>x</th><td>12.43916    </td><td> 0.6971909  </td><td>17.84183    </td><td>1.992391e-06</td></tr>\n",
       "</tbody>\n",
       "</table>\n"
      ],
      "text/latex": [
       "\\begin{tabular}{r|llll}\n",
       "  & Estimate & Std. Error & t value & Pr(>\\textbar{}t\\textbar{})\\\\\n",
       "\\hline\n",
       "\t(Intercept) & 13.86692     & 10.3292545   &  1.34249     & 2.279988e-01\\\\\n",
       "\tx & 12.43916     &  0.6971909   & 17.84183     & 1.992391e-06\\\\\n",
       "\\end{tabular}\n"
      ],
      "text/markdown": [
       "\n",
       "| <!--/--> | Estimate | Std. Error | t value | Pr(>|t|) | \n",
       "|---|---|\n",
       "| (Intercept) | 13.86692     | 10.3292545   |  1.34249     | 2.279988e-01 | \n",
       "| x | 12.43916     |  0.6971909   | 17.84183     | 1.992391e-06 | \n",
       "\n",
       "\n"
      ],
      "text/plain": [
       "            Estimate Std. Error t value  Pr(>|t|)    \n",
       "(Intercept) 13.86692 10.3292545  1.34249 2.279988e-01\n",
       "x           12.43916  0.6971909 17.84183 1.992391e-06"
      ]
     },
     "metadata": {},
     "output_type": "display_data"
    }
   ],
   "source": [
    "sqrt(deviance(fit)/df.residual(fit))\n",
    "coef(summary(fit))"
   ]
  }
 ],
 "metadata": {
  "kernelspec": {
   "display_name": "R",
   "language": "R",
   "name": "ir"
  },
  "language_info": {
   "codemirror_mode": "r",
   "file_extension": ".r",
   "mimetype": "text/x-r-source",
   "name": "R",
   "pygments_lexer": "r",
   "version": "3.6.1"
  }
 },
 "nbformat": 4,
 "nbformat_minor": 2
}
