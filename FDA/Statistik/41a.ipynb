{
 "cells": [
  {
   "cell_type": "markdown",
   "metadata": {},
   "source": [
    "41a)\n",
    "Man bestimme das Interpolationspolynom M in der monomialen Basis."
   ]
  },
  {
   "cell_type": "markdown",
   "metadata": {},
   "source": [
    "$$Ax=b$$\n",
    "$$x=A^{-1}b$$"
   ]
  },
  {
   "cell_type": "markdown",
   "metadata": {},
   "source": [
    "A=Vandermondmatrix"
   ]
  },
  {
   "cell_type": "code",
   "execution_count": 4,
   "metadata": {},
   "outputs": [
    {
     "name": "stdout",
     "output_type": "stream",
     "text": [
      "A =\n",
      "\n",
      "   1  -2\n",
      "   1  -1\n",
      "   1   0\n",
      "   1   1\n",
      "   1   2\n",
      "\n",
      "ans =\n",
      "\n",
      "   2.0000e-01   2.0000e-01   2.0000e-01   2.0000e-01   2.0000e-01\n",
      "  -2.0000e-01  -1.0000e-01  -9.1335e-18   1.0000e-01   2.0000e-01\n",
      "\n",
      "b =\n",
      "\n",
      "  -3\n",
      "  -2\n",
      "  -1\n",
      "   5\n",
      "   1\n",
      "\n",
      "x =\n",
      "\n",
      "        0\n",
      "   1.5000\n",
      "\n"
     ]
    }
   ],
   "source": [
    "A=[1 -2 ;1 -1 ;1 0 ; 1 1 ; 1 2 ];\n",
    "A\n",
    "pinv(A)\n",
    "b=[-3;-2;-1;5;1]\n",
    "x=pinv(A)*b"
   ]
  },
  {
   "cell_type": "markdown",
   "metadata": {},
   "source": [
    "$$M(x)=4.92-1.18x+0.11x^2$$"
   ]
  },
  {
   "cell_type": "markdown",
   "metadata": {},
   "source": [
    "Prüfung"
   ]
  },
  {
   "cell_type": "code",
   "execution_count": 7,
   "metadata": {},
   "outputs": [
    {
     "name": "stdout",
     "output_type": "stream",
     "text": [
      "A =\n",
      "\n",
      "   1  -3   9\n",
      "   1  -1   1\n",
      "   1   0   0\n",
      "   1   1   1\n",
      "   1   3   9\n",
      "\n"
     ]
    }
   ],
   "source": [
    "A=[1,-3,9;1,-1,1;1,0,0;1,1,1;1,3,9]"
   ]
  },
  {
   "cell_type": "code",
   "execution_count": 2,
   "metadata": {},
   "outputs": [
    {
     "name": "stdout",
     "output_type": "stream",
     "text": [
      "b =\n",
      "\n",
      "   0\n",
      "   0\n",
      "   1\n",
      "   0\n",
      "   0\n",
      "\n"
     ]
    }
   ],
   "source": [
    "b=[0;0;1;0;0]"
   ]
  },
  {
   "cell_type": "code",
   "execution_count": 11,
   "metadata": {},
   "outputs": [
    {
     "name": "stdout",
     "output_type": "stream",
     "text": [
      "ans =\n",
      "\n",
      "   3.9048e-01\n",
      "   4.1552e-17\n",
      "  -4.7619e-02\n",
      "\n"
     ]
    }
   ],
   "source": [
    "pinv(A)*b"
   ]
  },
  {
   "cell_type": "code",
   "execution_count": null,
   "metadata": {},
   "outputs": [],
   "source": []
  }
 ],
 "metadata": {
  "kernelspec": {
   "display_name": "Octave",
   "language": "octave",
   "name": "octave"
  },
  "language_info": {
   "file_extension": ".m",
   "help_links": [
    {
     "text": "GNU Octave",
     "url": "https://www.gnu.org/software/octave/support.html"
    },
    {
     "text": "Octave Kernel",
     "url": "https://github.com/Calysto/octave_kernel"
    },
    {
     "text": "MetaKernel Magics",
     "url": "https://metakernel.readthedocs.io/en/latest/source/README.html"
    }
   ],
   "mimetype": "text/x-octave",
   "name": "octave",
   "version": "6.3.0"
  }
 },
 "nbformat": 4,
 "nbformat_minor": 4
}
