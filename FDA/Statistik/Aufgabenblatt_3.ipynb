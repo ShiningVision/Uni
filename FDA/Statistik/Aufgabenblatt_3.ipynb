{
 "cells": [
  {
   "cell_type": "markdown",
   "metadata": {},
   "source": [
    "# Aufgabenblatt 3"
   ]
  },
  {
   "cell_type": "markdown",
   "metadata": {},
   "source": [
    "## Bedingte Wahrscheinlichkeiten und Unabhängigkeit"
   ]
  },
  {
   "cell_type": "markdown",
   "metadata": {},
   "source": [
    "### Aufgabe 1\n",
    "*(nur manuell)*"
   ]
  },
  {
   "cell_type": "markdown",
   "metadata": {},
   "source": [
    "Eine Münze mit den Seiten \"Wappen\" und \"Zahl\" werde dreimal geworfen. Man untersuche, ob unter der Laplace-Annahme die Ereignisse A, B, C\n",
    "\n",
    "a) paarweise unabhängig  \n",
    "b) vollständig unabhängig\n",
    "\n",
    "sind. Dabei seien\n",
    "\n",
    "A das Ereignis \"gleiche Seiten bei den beiden letzten Würfen\"  \n",
    "B das Ereignis \"gleiche Seiten beim 1. und 3. Wurf\" und  \n",
    "C das Ereignis \"gleiche Seiten bei den beiden ersten Würfen\""
   ]
  },
  {
   "cell_type": "markdown",
   "metadata": {},
   "source": [
    "$paarweise \\space unabhängig: P(A \\cap B)=P(A)*P(B)$"
   ]
  },
  {
   "cell_type": "markdown",
   "metadata": {},
   "source": [
    "$vollstandig \\space unabhängig: P(A \\cap B \\cap C)=P(A)*P(B)*P(C)$"
   ]
  },
  {
   "cell_type": "markdown",
   "metadata": {},
   "source": [
    "Es wird davon ausgegangen, dass mit der Fragestellung \"VONEINANDER unabhängig\" gemeint ist."
   ]
  },
  {
   "cell_type": "markdown",
   "metadata": {},
   "source": [
    "$P(A \\cap B)=P(A)*P(B)$"
   ]
  },
  {
   "cell_type": "markdown",
   "metadata": {},
   "source": [
    "$P(A \\cap C)=P(A)*P(C)$"
   ]
  },
  {
   "cell_type": "markdown",
   "metadata": {},
   "source": [
    "$P(B \\cap C)=P(B)*P(C)$"
   ]
  },
  {
   "cell_type": "markdown",
   "metadata": {},
   "source": [
    "$P(A \\cap B \\cap C)=P(A\\cap B)\\neq P(A)*P(B)*P(C)$"
   ]
  },
  {
   "cell_type": "markdown",
   "metadata": {},
   "source": [
    "### Aufgabe 2"
   ]
  },
  {
   "cell_type": "markdown",
   "metadata": {},
   "source": [
    "Eine Warenlieferung enthalte 5\\% Ausschuss.\n",
    "\n",
    "a) Wie groß ist die Wahrscheinlichkeit dafür, dass sich unter 10 zufällig mit Zurücklegen herausgegriffenen Stücken mindestens ein schlechtes befindet?  \n",
    "b) Der Warenumfang der Warenlieferung sei $n$. Wie groß ist im Falle $n$=20, $n$=100 bzw. $n$=1000 die Wahrscheinlichkeit dafür, dass sich unter 10 zufällig ohne Zurücklegen herausgegriffenen Stücken mindestens ein schlechtes befindet?\n",
    "\n",
    "Man berechne diese Wahrscheinlichkeiten unter geeigneten Annahmen und vergleiche die in Abhängigkeit von $n$ berechneten Werte beim Ziehen ohne Zurücklegen (Teil b)) mit dem Ergebnis beim Herausgreifen mit Zurücklegen (Teil a)).\n"
   ]
  },
  {
   "cell_type": "markdown",
   "metadata": {},
   "source": [
    "a) $1-0.95^{10}$"
   ]
  },
  {
   "cell_type": "code",
   "execution_count": 4,
   "metadata": {},
   "outputs": [
    {
     "data": {
      "text/html": [
       "0.401263060761621"
      ],
      "text/latex": [
       "0.401263060761621"
      ],
      "text/markdown": [
       "0.401263060761621"
      ],
      "text/plain": [
       "[1] 0.4012631"
      ]
     },
     "metadata": {},
     "output_type": "display_data"
    }
   ],
   "source": [
    "1-0.95**10"
   ]
  },
  {
   "cell_type": "markdown",
   "metadata": {},
   "source": [
    "b)"
   ]
  },
  {
   "cell_type": "code",
   "execution_count": 19,
   "metadata": {},
   "outputs": [
    {
     "data": {
      "text/html": [
       "0.5"
      ],
      "text/latex": [
       "0.5"
      ],
      "text/markdown": [
       "0.5"
      ],
      "text/plain": [
       "[1] 0.5"
      ]
     },
     "metadata": {},
     "output_type": "display_data"
    }
   ],
   "source": [
    "calcChances<-function(n){\n",
    "    faultCount=n*0.05;\n",
    "    goodCount=n-faultCount;\n",
    "    fullCount=n;\n",
    "    chances=1;\n",
    "    for(val in 1:10){\n",
    "        chances=chances*(goodCount/fullCount);\n",
    "        goodCount=goodCount-1;\n",
    "        fullCount=fullCount-1;\n",
    "    }\n",
    "    return (1-chances);\n",
    "}\n",
    "calcChances(20);"
   ]
  },
  {
   "cell_type": "code",
   "execution_count": 20,
   "metadata": {},
   "outputs": [
    {
     "data": {
      "text/html": [
       "0.416247633073848"
      ],
      "text/latex": [
       "0.416247633073848"
      ],
      "text/markdown": [
       "0.416247633073848"
      ],
      "text/plain": [
       "[1] 0.4162476"
      ]
     },
     "metadata": {},
     "output_type": "display_data"
    }
   ],
   "source": [
    "calcChances(100)"
   ]
  },
  {
   "cell_type": "code",
   "execution_count": 21,
   "metadata": {},
   "outputs": [
    {
     "data": {
      "text/html": [
       "0.402688707093346"
      ],
      "text/latex": [
       "0.402688707093346"
      ],
      "text/markdown": [
       "0.402688707093346"
      ],
      "text/plain": [
       "[1] 0.4026887"
      ]
     },
     "metadata": {},
     "output_type": "display_data"
    }
   ],
   "source": [
    "calcChances(1000)"
   ]
  },
  {
   "cell_type": "markdown",
   "metadata": {},
   "source": [
    "### Aufgabe 3"
   ]
  },
  {
   "cell_type": "markdown",
   "metadata": {},
   "source": [
    "Nach dem Picknick vermisst die Familie ihren Hund. Es gibt drei Möglichkeiten:\n",
    "\n",
    "A: Er ist heim gelaufen und erwartet die Familie vor der Haustür.  \n",
    "B: Er bearbeitet noch einen großen Knochen auf dem Picknick-Platz.  \n",
    "C: Er streunt im Wald.\n",
    "\n",
    "Aufgrund der Gewohnheiten des Hundes kennt man die Wahrscheinlichkeiten für das Eintreten der Ereignisse $A$, $B$ und $C$:\n",
    "\n",
    "$$P(A)=\\frac{1}{4},P(B)=\\frac{1}{2},P(C)=\\frac{1}{4}$$\n",
    "\n",
    "Je ein Kind wird zurück zum Picknick-Platz und an den Waldrand geschickt. Wenn der Hund an der ersten Stelle ist, findet man ihn mit 90\\%-iger Wahrscheinlichkeit, streunt er aber im Wald, so beträgt die Wahrscheinlichkeit nur noch 50\\%.\n",
    "\n",
    "a) Mit welcher Wahrscheinlichkeit wird eines der Kinder den Hund finden?  \n",
    "b) Wie groß ist die (bedingte) Wahrscheinlichkeit dafür, ihn bei der Rückkehr vor der Haustür anzutreffen, falls die Kinder den Hund nicht finden.\n"
   ]
  },
  {
   "cell_type": "markdown",
   "metadata": {},
   "source": [
    "a) $P(B)*0.9+P(C)*0.5=57,5\\%$"
   ]
  },
  {
   "cell_type": "code",
   "execution_count": 24,
   "metadata": {},
   "outputs": [
    {
     "data": {
      "text/html": [
       "0.575"
      ],
      "text/latex": [
       "0.575"
      ],
      "text/markdown": [
       "0.575"
      ],
      "text/plain": [
       "[1] 0.575"
      ]
     },
     "metadata": {},
     "output_type": "display_data"
    }
   ],
   "source": [
    "foundDog<-1/2*0.9+1/4*0.5;\n",
    "foundDog"
   ]
  },
  {
   "cell_type": "code",
   "execution_count": 26,
   "metadata": {},
   "outputs": [
    {
     "data": {
      "text/html": [
       "0.10625"
      ],
      "text/latex": [
       "0.10625"
      ],
      "text/markdown": [
       "0.10625"
      ],
      "text/plain": [
       "[1] 0.10625"
      ]
     },
     "metadata": {},
     "output_type": "display_data"
    }
   ],
   "source": [
    "(1-foundDog)*1/4"
   ]
  },
  {
   "cell_type": "markdown",
   "metadata": {},
   "source": [
    "b)$P(dogNotFound \\cap A)=P(dogNotFound)*P(A)=10,625\\%$"
   ]
  },
  {
   "cell_type": "markdown",
   "metadata": {},
   "source": [
    "### Aufgabe 4"
   ]
  },
  {
   "cell_type": "markdown",
   "metadata": {},
   "source": [
    "Ergibt sich bei einer Tbc-Röntgenuntersuchung ein positiver Befund, so stellt sich für den Betroffenen die Frage nach der Chance, trotzdem gesund zu sein. Man benutze den Begriff der bedingten Wahrscheinlichkeit, um unter folgenden drei Modellannahmen eine Antwort zu geben:\n",
    "\n",
    "(i) 0.1\\% der Bevölkerung haben Tbc.  \n",
    "(ii) Bei Tbc-Trägern liefert die Untersuchung in 94\\% aller Fälle einen positiven Befund, d.h. ein richtiges Ergebnis.  \n",
    "(iii) Bei gesunden Personen liefert die Untersuchung in 1\\% aller Fälle einen positiven Befund, d.h. ein falsches Ergebnis (falsch-positiv).\n"
   ]
  },
  {
   "cell_type": "markdown",
   "metadata": {},
   "source": [
    "iii) $1\\%$"
   ]
  },
  {
   "cell_type": "markdown",
   "metadata": {},
   "source": [
    "### Aufgabe 5"
   ]
  },
  {
   "cell_type": "markdown",
   "metadata": {},
   "source": [
    "Eine Nachrichtenquelle sendet die Signale $a_1,a_2,a_3$ mit den positiven Wahrscheinlichkeiten $p_1,p_2,p_3$. Nach Übertragung durch einen gestörten Kanal wird vom Empfänger eines der Signale $b_1,b_2,b_3$ empfangen. Für $i,j=1,2,3$ sei $p_{ij}$ die (bedingte) Wahrscheinlichkeit dafür, dass $b_j$ empfangen wird, falls $a_i$ gesendet wird. Sei $(p_1,p_2,p_3)=(0.6,0.3,0.1)$ und\n",
    "\n",
    "$$(p_{ij})_{i,j=1,2,3}=\\left(\n",
    "    \\begin{array}{ccc}\n",
    "      0.9 & 0.1 & 0.0 \\\\\n",
    "      0.2 & 0.5 & 0.3 \\\\\n",
    "      0.0 & 0.4 & 0.6 \\\\\n",
    "    \\end{array}\n",
    "  \\right)$$"
   ]
  },
  {
   "cell_type": "code",
   "execution_count": 27,
   "metadata": {},
   "outputs": [],
   "source": [
    "p_ij = matrix(c(0.9,0.1,0,0.2,0.5,0.3,0,0.4,0.6),nrow=3,ncol=3, byrow=TRUE)\n",
    "p_i = c(0.6,0.3,0.1)"
   ]
  },
  {
   "cell_type": "markdown",
   "metadata": {},
   "source": [
    "a) Für $j=1,2,3$ berechne man die Wahrscheinlichkeit $q_j$ dafür, dass bei einer Übertragung das Signal $b_j$ empfangen wird.  \n",
    "b) Für $j,k=1,2,3$ berechne man die Wahrscheinlichkeit $r_{jk}$ dafür, dass das Signal $a_k$ gesendet wird, wenn $b_j$ empfangen wird."
   ]
  },
  {
   "cell_type": "code",
   "execution_count": 33,
   "metadata": {},
   "outputs": [
    {
     "data": {
      "text/html": [
       "0.92"
      ],
      "text/latex": [
       "0.92"
      ],
      "text/markdown": [
       "0.92"
      ],
      "text/plain": [
       "[1] 0.92"
      ]
     },
     "metadata": {},
     "output_type": "display_data"
    },
    {
     "data": {
      "text/html": [
       "0.73"
      ],
      "text/latex": [
       "0.73"
      ],
      "text/markdown": [
       "0.73"
      ],
      "text/plain": [
       "[1] 0.73"
      ]
     },
     "metadata": {},
     "output_type": "display_data"
    },
    {
     "data": {
      "text/html": [
       "0.72"
      ],
      "text/latex": [
       "0.72"
      ],
      "text/markdown": [
       "0.72"
      ],
      "text/plain": [
       "[1] 0.72"
      ]
     },
     "metadata": {},
     "output_type": "display_data"
    }
   ],
   "source": [
    "q1<-1-((1-0.9)*(1-0.2));\n",
    "q2<-1-((1-0.1)*(1-0.5)*(1-0.4));\n",
    "q3<-1-((1-0.0)*(1-0.3)*(1-0.6));\n",
    "q1\n",
    "q2\n",
    "q3"
   ]
  },
  {
   "cell_type": "markdown",
   "metadata": {},
   "source": [
    "### Aufgabe 6"
   ]
  },
  {
   "cell_type": "markdown",
   "metadata": {},
   "source": [
    "Bei einem 5-Kanal-Lochstreifen werden genau zwei der fünf Positionen jeder Spalte mit einer \"1\" (Loch) und die restlichen drei Positionen mit einer \"0\" (kein Loch) versehen. Bei dieser Vorgehensweise kann in jeder Spalte des Lochstreifens genau eine der 10 Dezimalziffern in codierter Form abgelegt werden.\n",
    "\n",
    "Von einem solchen 5-Kanal-Lochstreifen werden mit einem optischen Leser Ziffern gelesen. Werden in einer Spalte aufgrund von Lesefehlern in den einzelnen Positionen mehr oder weniger als 2 Einsen gelesen, so wird die fehlerhafte Eingabe der Ziffer bemerkt. Wird trotz falschem Lesen genau zweimal eine \"1\" registriert, bleibt die fehlerhafte Eingabe unbemerkt. Unter den Voraussetzungen, dass für das Auftreten von Lesefehlern die Unabhängigkeitsannahme gerechtfertigt ist und dass mit Wahrscheinlichkeit $p_1$ eine Null statt einer Eins und mit Wahrscheinlichkeit $p_2$ eine Eins statt einer Null gelesen wird, berechne man folgende Wahrscheinlichkeiten.\n",
    "\n",
    "a) Die Wahrscheinlichkeit dafür, dass beim Lesen einer Ziffer mindestens ein Fehler auftritt.  \n",
    "b) Die Wahrscheinlichkeit dafür, dass unbemerkt eine falsche Ziffer gelesen wird.  \n",
    "c) Die Wahrscheinlichkeit dafür, dass beim Lesen von 10000 Ziffern mit $p_1=10^{-4}$ und $p_2=10^{-5}$ mindestens ein Lesefehler auftritt bzw. mindestens einmal unbemerkt eine falsche Ziffer gelesen wird."
   ]
  },
  {
   "cell_type": "markdown",
   "metadata": {},
   "source": [
    "a)$(1-p_1)^2*(1-p_2)^3$"
   ]
  },
  {
   "cell_type": "code",
   "execution_count": null,
   "metadata": {},
   "outputs": [],
   "source": []
  },
  {
   "cell_type": "markdown",
   "metadata": {},
   "source": [
    "### Aufgabe 7\n",
    "*(nur manuell)*"
   ]
  },
  {
   "cell_type": "markdown",
   "metadata": {},
   "source": [
    "Ein Gerät bestehe aus den Bauteilen $T_1$ und $T_2$, die in Reihe angeordnet sind. Die Wahrscheinlichkeiten dafür, dass das Bauteil $T_1$ bzw. $T_2$ während einer bestimmten Zeitdauer intakt bleibt, sei $p_1$ bzw. $p_2$. Die Zuverlässigkeit des Systems soll durch das Hinzuschalten gleichartiger Bauteile $T_1'$ bzw. $T_2'$ erhöht werden. Dafür kommen 2 Methoden in Frage, die miteinander verglichen werden sollen:\n",
    "\n",
    "I: Zu dem System wird ein identisches System als Reserve parallelgeschaltet  \n",
    "II: Zu jedem Bauteil wird ein identisches Bauteil als Reserve parallelgeschaltet\n",
    "\n",
    "Man vergleiche die beiden Methoden, indem man unter geeigneten Annahmen die Wahrscheinlichkeit $P_I$ bzw. $P_{II}$ dafür berechnet, dass das nach der Methode I bzw. Methode II veränderte Gerät während der festgelegten Zeitdauer intakt bleibt."
   ]
  },
  {
   "cell_type": "markdown",
   "metadata": {},
   "source": [
    "### Aufgabe 8"
   ]
  },
  {
   "cell_type": "markdown",
   "metadata": {},
   "source": [
    "Die Wahrscheinlichkeit dafür, dass eine zufällig ausgewählte Familie genau $k$ Kinder hat, sei $p_k=\\frac{1}{3}\\left(\\frac{2}{3}\\right)^k,k\\geq0$. Die Wahrscheinlichkeit dafür, dass es sich bei einem zufällig herausgegriffenen Kind um einen Jungen handelt, sei $\\frac{13}{25}$. Für die Geschlechtszugehörigkeit verschiedener Kinder innerhalb einer Familie wird die Unabhängigkeitsannahme gemacht.\n",
    "\n",
    "a) Wie wahrscheinlich ist es, dass unter den Kindern einer zufällig ausgewählten Familie genau zwei Jungen sind?  \n",
    "b) Wie groß ist die (bedingte) Wahrscheinlichkeit dafür, dass die beiden Jungen genau eine Schwester haben, falls es sich um eine in a) beschriebene Familie handelt?\n",
    "\n",
    "*Hinweis:* $\\sum_{k=2}^{\\infty} k(k-1)p^{k-2}=\\frac{2}{(1-p)^3}$ für $0<p<1$.\n"
   ]
  }
 ],
 "metadata": {
  "kernelspec": {
   "display_name": "R",
   "language": "R",
   "name": "ir"
  },
  "language_info": {
   "codemirror_mode": "r",
   "file_extension": ".r",
   "mimetype": "text/x-r-source",
   "name": "R",
   "pygments_lexer": "r",
   "version": "3.6.1"
  }
 },
 "nbformat": 4,
 "nbformat_minor": 4
}
