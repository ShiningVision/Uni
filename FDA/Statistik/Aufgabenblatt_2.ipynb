{
 "cells": [
  {
   "cell_type": "markdown",
   "metadata": {},
   "source": [
    "# Aufgabenblatt 2"
   ]
  },
  {
   "cell_type": "markdown",
   "metadata": {},
   "source": [
    "## Laplace-Wahrscheinlichkeiten"
   ]
  },
  {
   "cell_type": "markdown",
   "metadata": {},
   "source": [
    "### Aufgabe 1"
   ]
  },
  {
   "cell_type": "markdown",
   "metadata": {},
   "source": [
    "Neun Personen besteigen einen Zug mit drei Wagen. Jede Person wählt zufällig und unabhängig von den anderen Personen einen Wagen. Wie groß ist unter geeigneter Laplace-Annahme die Wahrscheinlichkeit dafür, dass\n",
    "\n",
    "a) genau drei Personen in den ersten Wagen steigen,  \n",
    "b) jeweils drei Personen in jeden Wagen steigen,  \n",
    "c) die neun Personen sich in Gruppen zu zwei, drei und vier Personen auf die drei Wagen aufteilen?"
   ]
  },
  {
   "cell_type": "markdown",
   "metadata": {},
   "source": [
    "$$a) \n",
    "    \\frac\n",
    "    {\\left(\\begin{array}{c} 9 \\\\ 3\\end{array}\\right)}\n",
    "    {3^9}\n",
    "   $$"
   ]
  },
  {
   "cell_type": "code",
   "execution_count": 11,
   "metadata": {},
   "outputs": [
    {
     "data": {
      "text/html": [
       "0.273129096174364"
      ],
      "text/latex": [
       "0.273129096174364"
      ],
      "text/markdown": [
       "0.273129096174364"
      ],
      "text/plain": [
       "[1] 0.2731291"
      ]
     },
     "metadata": {},
     "output_type": "display_data"
    }
   ],
   "source": [
    "choose(9,3)*2^6/3^9"
   ]
  },
  {
   "cell_type": "markdown",
   "metadata": {},
   "source": [
    "$$b) \n",
    "    \\frac\n",
    "    {\\left(\\begin{array}{c} 9 \\\\ 3\\end{array}\\right)*\n",
    "    \\left(\\begin{array}{c} 6 \\\\ 3\\end{array}\\right)*\n",
    "    \\left(\\begin{array}{c} 3 \\\\ 3\\end{array}\\right)}\n",
    "    {3^9}\n",
    "   $$"
   ]
  },
  {
   "cell_type": "code",
   "execution_count": 13,
   "metadata": {},
   "outputs": [
    {
     "data": {
      "text/html": [
       "0.0853528425544886"
      ],
      "text/latex": [
       "0.0853528425544886"
      ],
      "text/markdown": [
       "0.0853528425544886"
      ],
      "text/plain": [
       "[1] 0.08535284"
      ]
     },
     "metadata": {},
     "output_type": "display_data"
    }
   ],
   "source": [
    "choose(9,3)*choose(6,3)*choose(3,3)/3^9"
   ]
  },
  {
   "cell_type": "markdown",
   "metadata": {},
   "source": [
    "$$c) \n",
    "    \\frac\n",
    "    {\\left(\\begin{array}{c} 9 \\\\ 4\\end{array}\\right)*\n",
    "    \\left(\\begin{array}{c} 5 \\\\ 3\\end{array}\\right)*\n",
    "    3!}\n",
    "    {3^9}\n",
    "   $$"
   ]
  },
  {
   "cell_type": "code",
   "execution_count": 19,
   "metadata": {},
   "outputs": [
    {
     "data": {
      "text/html": [
       "0.384087791495199"
      ],
      "text/latex": [
       "0.384087791495199"
      ],
      "text/markdown": [
       "0.384087791495199"
      ],
      "text/plain": [
       "[1] 0.3840878"
      ]
     },
     "metadata": {},
     "output_type": "display_data"
    }
   ],
   "source": [
    "choose(9,4)*choose(5,3)*factorial(3)/3^9\n"
   ]
  },
  {
   "cell_type": "markdown",
   "metadata": {},
   "source": [
    "### Aufgabe 2"
   ]
  },
  {
   "cell_type": "markdown",
   "metadata": {},
   "source": [
    "Aus einer Tabelle (einstelliger) Zufallsziffern werden nacheinander Ziffern entnommen. Wie viele Ziffern muss man mindestens entnehmen, damit unter ihnen mit einer Wahrscheinlichkeit $\\geq 0.95$ mindestens eine ungerade ist."
   ]
  },
  {
   "cell_type": "markdown",
   "metadata": {},
   "source": [
    "$$Probability(uneven)={0.5}$$\n",
    "$$0.5^n\\leq 0.05$$\n",
    "$$n\\cdot ln(0.5)\\leq ln(0.05)$$\n",
    "$$n\\geq \\frac{ln(0.05)}{ln(0.5)}$$"
   ]
  },
  {
   "cell_type": "code",
   "execution_count": 22,
   "metadata": {},
   "outputs": [
    {
     "data": {
      "text/html": [
       "4.32192809488736"
      ],
      "text/latex": [
       "4.32192809488736"
      ],
      "text/markdown": [
       "4.32192809488736"
      ],
      "text/plain": [
       "[1] 4.321928"
      ]
     },
     "metadata": {},
     "output_type": "display_data"
    }
   ],
   "source": [
    "log(0.05)/log(0.5)"
   ]
  },
  {
   "cell_type": "markdown",
   "metadata": {},
   "source": [
    "A: 5"
   ]
  },
  {
   "cell_type": "markdown",
   "metadata": {},
   "source": [
    "### Aufgabe 3"
   ]
  },
  {
   "cell_type": "markdown",
   "metadata": {},
   "source": [
    "Ein Produktionsverfahren zur Herstellung von bestimmten elektronischen Bauteilen liefert im Mittel 10\\% Ausschuss, 40\\% Produkte zweiter und 50\\% Produkte erster Wahl. Aus der laufenden Fertigung werden 4 Bauteile entnommen. Unter geeigneten Annahmen (\"Ziehen mit Zurücklegen\") berechne man die Wahrscheinlichkeit dafür, dass sich unter den 4 entnommenen Bauteilen\n",
    "\n",
    "a) ausschließlich Bauteile erster Wahl befinden,  \n",
    "b) kein Ausschuss und höchstens ein Bauteil zweiter Wahl befindet,  \n",
    "c) mindestens drei Bauteile erster Wahl befinden."
   ]
  },
  {
   "cell_type": "markdown",
   "metadata": {},
   "source": [
    "a) $$P(erster Wahl): 50 Prozent\\\\\n",
    "0.5^4=6.25 Prozent$$"
   ]
  },
  {
   "cell_type": "markdown",
   "metadata": {},
   "source": [
    "b)$$P(AllesErsterWahl)+P(3ErsterWahlUnd1ZweiterWahl)$$\n",
    "$$0.0625+{4\\choose 3}*(0.5^3*0.4)$$\n",
    "$$=26,25Prozent$$"
   ]
  },
  {
   "cell_type": "code",
   "execution_count": 1,
   "metadata": {},
   "outputs": [
    {
     "data": {
      "text/html": [
       "0.2625"
      ],
      "text/latex": [
       "0.2625"
      ],
      "text/markdown": [
       "0.2625"
      ],
      "text/plain": [
       "[1] 0.2625"
      ]
     },
     "metadata": {},
     "output_type": "display_data"
    }
   ],
   "source": [
    "0.5^4+4*0.5^3*0.4"
   ]
  },
  {
   "cell_type": "markdown",
   "metadata": {},
   "source": [
    "c)\n",
    "$$P(4ErsterWahl)+P(3ErsterWahlUnd1NichtErsterWahl)$$\n",
    "\n",
    "\n",
    "$$P(4ErsterWahl)=6.25Prozent$$\n",
    "$$P(ErsterWahlUnd1NichtErsterWahl)={4\\choose3}*0.5^3*(1-0.5)$$"
   ]
  },
  {
   "cell_type": "code",
   "execution_count": 2,
   "metadata": {},
   "outputs": [
    {
     "data": {
      "text/html": [
       "0.3125"
      ],
      "text/latex": [
       "0.3125"
      ],
      "text/markdown": [
       "0.3125"
      ],
      "text/plain": [
       "[1] 0.3125"
      ]
     },
     "metadata": {},
     "output_type": "display_data"
    }
   ],
   "source": [
    "0.0625+choose(4,3)*0.5^4"
   ]
  },
  {
   "cell_type": "markdown",
   "metadata": {},
   "source": [
    "### Aufgabe 4"
   ]
  },
  {
   "cell_type": "markdown",
   "metadata": {},
   "source": [
    "Das Ergebnis eines Roulette-Spieles ist eine der Zahlen 1 bis 36 oder die 0, die alle mit gleicher Wahrscheinlichkeit auftreten. Man kann bei einfacher Gewinnchance auf die geraden Zahlen ($2,4,\\ldots,36$; \"Pair\") oder die ungeraden Zahlen ($1,3,5,\\ldots,35$; \"Impair\") setzen. Ein Spieler setze immer auf \"Pair\".\n",
    "\n",
    "a) Wie groß ist die Wahrscheinlichkeit dafür, dass er bei 10 Spielen genau 2-mal bzw. genau 3-mal Erfolg hat?  \n",
    "b) Man bestimme die Wahrscheinlichkeit $p_k$ dafür, dass der Spieler beim $k$-ten Spiel ($k \\in \\mathbb{N}$) zum ersten Erfolg kommt, und berechne diese Wahrscheinlichkeit für $k=1,2,3$ bzw. $k=10$.  \n",
    "c) Das Einsatzlimit betrage 5000 Euro. Der Spieler beginnt mit einem Einsatz von 5 Euro und nimmt sich vor, bei Verlust seinen Einsatz im jeweils nächsten Spiel zu verdoppeln und bei Gewinn aufzuhören. Wie groß ist die Wahrscheinlichkeit dafür, dass er wegen Überschreitung des Limits aufhören muss, bevor er einen Gewinn realisieren kann?"
   ]
  },
  {
   "cell_type": "markdown",
   "metadata": {},
   "source": [
    "a)$$P_{Erfolgswahrscheinlichkeit}: \\frac{18}{37}$$\n",
    "$$M_{Möglichkeiten}{10\\choose2} bzw {10\\choose3}$$\n",
    "$$P(Anzahl Gewinne)=\\frac{P*M}{2^{10}}$$"
   ]
  },
  {
   "cell_type": "code",
   "execution_count": 8,
   "metadata": {},
   "outputs": [
    {
     "data": {
      "text/html": [
       "0.0213788006756757"
      ],
      "text/latex": [
       "0.0213788006756757"
      ],
      "text/markdown": [
       "0.0213788006756757"
      ],
      "text/plain": [
       "[1] 0.0213788"
      ]
     },
     "metadata": {},
     "output_type": "display_data"
    },
    {
     "data": {
      "text/html": [
       "0.0570101351351351"
      ],
      "text/latex": [
       "0.0570101351351351"
      ],
      "text/markdown": [
       "0.0570101351351351"
      ],
      "text/plain": [
       "[1] 0.05701014"
      ]
     },
     "metadata": {},
     "output_type": "display_data"
    }
   ],
   "source": [
    "P1=(18/37*choose(10,2))/2^10\n",
    "P1\n",
    "P2=(18/37*choose(10,3))/2^10\n",
    "P2"
   ]
  },
  {
   "cell_type": "markdown",
   "metadata": {},
   "source": [
    "### Aufgabe 5"
   ]
  },
  {
   "cell_type": "markdown",
   "metadata": {},
   "source": [
    "Bei einer Nikolausfeier im Kindergarten bringt jedes der 12 Kinder ein Päckchen mit, das der Nikolaus in seinen Sack steckt. Später verteilt er die 12 Päckchen wieder zufällig an die Kinder. Wie groß ist (unter geeigneter Laplace-Annahme) die Wahrscheinlichkeit dafür, dass keines der Kinder sein eigenes Päckchen zurückbekommt?\n"
   ]
  },
  {
   "cell_type": "markdown",
   "metadata": {},
   "source": [
    "mögliche Fälle: $$M=12!$$"
   ]
  },
  {
   "cell_type": "markdown",
   "metadata": {},
   "source": [
    "günstige Fälle: $$$$"
   ]
  },
  {
   "cell_type": "markdown",
   "metadata": {},
   "source": [
    "### Aufgabe 6"
   ]
  },
  {
   "cell_type": "markdown",
   "metadata": {},
   "source": [
    "Beim \"Doppelkopf-Spiel\" wird ein Kartenspiel mit 48 Karten durchgemischt und es werden an vier Spieler je zwölf Karten verteilt. Acht der 48 Karten heißen \"Damen\", zwei der acht Damen heißen \"Kreuz-Damen\". Man berechne unter der Laplace-Annahme die Wahrscheinlichkeit für folgendes Ereignis: Ein Spieler erhält beide Kreuz-Damen."
   ]
  },
  {
   "cell_type": "markdown",
   "metadata": {},
   "source": [
    "Mögliche Fälle: $$M={48\\choose12}{36\\choose12}{24\\choose12}{12\\choose12}$$"
   ]
  },
  {
   "cell_type": "markdown",
   "metadata": {},
   "source": [
    "Günstige Fälle: $$G={46\\choose10}{36\\choose12}{24\\choose12}{12\\choose12}$$"
   ]
  },
  {
   "cell_type": "markdown",
   "metadata": {},
   "source": [
    "Es gibt 4 Spieler. Es ist egal wer die 2 Kreuz-Damen bekommt: $$4x$$"
   ]
  },
  {
   "cell_type": "markdown",
   "metadata": {},
   "source": [
    "$$\\frac{G}{M}*4=$$"
   ]
  },
  {
   "cell_type": "code",
   "execution_count": 6,
   "metadata": {},
   "outputs": [
    {
     "data": {
      "text/html": [
       "0.234042553191489"
      ],
      "text/latex": [
       "0.234042553191489"
      ],
      "text/markdown": [
       "0.234042553191489"
      ],
      "text/plain": [
       "[1] 0.2340426"
      ]
     },
     "metadata": {},
     "output_type": "display_data"
    }
   ],
   "source": [
    "m=choose(48,12)*choose(36,12)*choose(24,12)*choose(12,12);\n",
    "g=choose(46,10)*choose(36,12)*choose(24,12)*choose(12,12);\n",
    "r=g/m*4;\n",
    "r"
   ]
  },
  {
   "cell_type": "markdown",
   "metadata": {},
   "source": [
    "### Aufgabe 7"
   ]
  },
  {
   "cell_type": "markdown",
   "metadata": {},
   "source": [
    "In Fortsetzung der vorangegangenen Aufgabe berechne man unter der Laplace-Annahme die Wahrscheinlichkeit für folgendes Ereignis: Ein Spieler erhält beide Kreuz-Damen und mindestens drei weitere Damen."
   ]
  },
  {
   "cell_type": "markdown",
   "metadata": {},
   "source": [
    "### Aufgabe 8"
   ]
  },
  {
   "cell_type": "markdown",
   "metadata": {},
   "source": [
    "In Fortsetzung der vorangegangenen Aufgabe berechne man unter der Laplace-Annahme die Wahrscheinlichkeit für folgendes Ereignis: Zwei Spieler erhalten je eine Kreuz-Dame und mindestens zwei weitere Damen."
   ]
  }
 ],
 "metadata": {
  "kernelspec": {
   "display_name": "R",
   "language": "R",
   "name": "ir"
  },
  "language_info": {
   "codemirror_mode": "r",
   "file_extension": ".r",
   "mimetype": "text/x-r-source",
   "name": "R",
   "pygments_lexer": "r",
   "version": "3.6.1"
  }
 },
 "nbformat": 4,
 "nbformat_minor": 4
}
