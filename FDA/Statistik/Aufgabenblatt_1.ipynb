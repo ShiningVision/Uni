{
 "cells": [
  {
   "cell_type": "markdown",
   "metadata": {},
   "source": [
    "# Aufgabenblatt 1"
   ]
  },
  {
   "cell_type": "markdown",
   "metadata": {},
   "source": [
    "## Kombinatorik"
   ]
  },
  {
   "cell_type": "markdown",
   "metadata": {},
   "source": [
    "### Aufgabe 1"
   ]
  },
  {
   "cell_type": "markdown",
   "metadata": {},
   "source": [
    "Wie viele gleich lange Worte lassen sich aus dem Wort STATISTIK bilden?"
   ]
  },
  {
   "cell_type": "markdown",
   "metadata": {},
   "source": [
    "2S, 3T, 1A, 2I,1K: n=9 "
   ]
  },
  {
   "cell_type": "markdown",
   "metadata": {},
   "source": [
    "$$\\frac{n!}{2!*3!*1!*2!*1!}=\\frac{9!}{2*3!*2}=15120$$"
   ]
  },
  {
   "cell_type": "markdown",
   "metadata": {},
   "source": [
    "### Aufgabe 2"
   ]
  },
  {
   "cell_type": "markdown",
   "metadata": {},
   "source": [
    "Einer Studentin werden bei einer Prüfung 12 Fragen vorgelegt. Sie darf davon 4 auswählen. Man berechne die Anzahl der Wahlmöglichkeiten, wenn sie aus den ersten 6 Fragen mindestens drei auswählen muss."
   ]
  },
  {
   "cell_type": "markdown",
   "metadata": {},
   "source": [
    "$$\\left(\\begin{array}{c} 6 \\\\ 3 \\end{array}\\right)*\\left(\\begin{array}{c} 6 \\\\ 1 \\end{array}\\right)\n",
    "+\\left(\\begin{array}{c} 6 \\\\ 4 \\end{array}\\right)=\\frac{6!}{3!*3!}*6+15=135$$"
   ]
  },
  {
   "cell_type": "code",
   "execution_count": 1,
   "metadata": {},
   "outputs": [
    {
     "data": {
      "text/html": [
       "135"
      ],
      "text/latex": [
       "135"
      ],
      "text/markdown": [
       "135"
      ],
      "text/plain": [
       "[1] 135"
      ]
     },
     "metadata": {},
     "output_type": "display_data"
    }
   ],
   "source": [
    "choose(6,3)*choose(6,1)+choose(6,4)"
   ]
  },
  {
   "cell_type": "markdown",
   "metadata": {},
   "source": [
    "### Aufgabe 3"
   ]
  },
  {
   "cell_type": "markdown",
   "metadata": {},
   "source": [
    "Bei einem Radrennen mit 10 Startern wird in jeweils 4 Rennen der\n",
    "Sieger ermittelt. Wie viele mögliche Gesamtergebnisse gibt es, wenn\n",
    "nur die Anzahl der gewonnenen Rennen berücksichtigt wird?"
   ]
  },
  {
   "cell_type": "markdown",
   "metadata": {},
   "source": [
    "$$\\left(\\begin{array}{c} 10+4-1 \\\\ 4 \\end{array}\\right)=715$$"
   ]
  },
  {
   "cell_type": "markdown",
   "metadata": {},
   "source": [
    "### Aufgabe 4"
   ]
  },
  {
   "cell_type": "markdown",
   "metadata": {},
   "source": [
    "Aus 5 Ehepaaren werden zufällig 4 Personen ausgewählt. Wie viele unterschiedliche Anordnungen gibt es, wenn sich unter den 4 ausgewählten Personen kein Ehepaar befinden soll?"
   ]
  },
  {
   "cell_type": "markdown",
   "metadata": {},
   "source": [
    "\n",
    "$$\\frac{5!}{(5-4)!}=120$$falsch"
   ]
  },
  {
   "cell_type": "markdown",
   "metadata": {},
   "source": [
    "### Aufgabe 5"
   ]
  },
  {
   "cell_type": "markdown",
   "metadata": {},
   "source": [
    "In einer Ebene sind 20 Punkte gegeben, man berechne die Anzahl der Kreise, die sich durch jeweils 3 Punkte der Ebene legen lassen, wenn auf einem der Kreise ausnahmsweise 8 Punkte liegen."
   ]
  },
  {
   "cell_type": "markdown",
   "metadata": {},
   "source": [
    "$$\\left(\\begin{array}{c} 20 \\\\ 3 \\end{array}\\right)-\\left(\\begin{array}{c} 4 \\\\ 3 \\end{array}\\right)+1=1137$$"
   ]
  },
  {
   "cell_type": "markdown",
   "metadata": {},
   "source": [
    "### Aufgabe 6"
   ]
  },
  {
   "cell_type": "markdown",
   "metadata": {},
   "source": [
    "Man berechne die Anzahl der vierstelligen Zahlen, welche die Ziffern 1 und 3 enthalten, wenn die Zahlen aus unterschiedlichen Ziffern bestehen."
   ]
  },
  {
   "cell_type": "markdown",
   "metadata": {},
   "source": [
    "$$\\left(\\begin{array}{c} 10 \\\\ 4 \\end{array}\\right)-\\left(\\begin{array}{c} 8 \\\\ 4 \\end{array}\\right)=140$$falsch"
   ]
  },
  {
   "cell_type": "markdown",
   "metadata": {},
   "source": [
    "### Aufgabe 7"
   ]
  },
  {
   "cell_type": "markdown",
   "metadata": {},
   "source": [
    "Ein kleines Unternehmen beschäftigt acht Personen in der Fertigungsabteilung, fünf Personen in der Marketingabteilung und drei Personen in der Buchhaltungsabteilung. Es soll ein Projektteam\n",
    "von sechs Personen gebildet werden, um die Einführung eines neuen Produkts zu diskutieren. Auf wie viele Arten kann das Team zusammengestellt werden, wenn:\n",
    "\n",
    "a) ihm aus jeder Abteilung zwei Personen angehören sollen?  \n",
    "b) ihm wenigstens zwei Personen aus der Fertigungsabteilung angehören sollen?  \n",
    "c) ihm Vertreter aus allen drei Abteilungen angehören sollen?\n"
   ]
  },
  {
   "cell_type": "markdown",
   "metadata": {},
   "source": [
    "a) $$\\left(\\begin{array}{c} 8 \\\\ 2 \\end{array}\\right)*\\left(\\begin{array}{c} 5 \\\\ 2 \\end{array}\\right)*\\left(\\begin{array}{c} 3 \\\\ 2 \\end{array}\\right)=840$$"
   ]
  },
  {
   "cell_type": "markdown",
   "metadata": {},
   "source": [
    "b)$$\\left(\\begin{array}{c} 16 \\\\ 6 \\end{array}\\right)-\\left(\\begin{array}{c} 8 \\\\ 6 \\end{array}\\right)-\\left(\\begin{array}{c} 8 \\\\ 5 \\end{array}\\right)=7924$$"
   ]
  },
  {
   "cell_type": "code",
   "execution_count": 3,
   "metadata": {},
   "outputs": [
    {
     "data": {
      "text/html": [
       "7924"
      ],
      "text/latex": [
       "7924"
      ],
      "text/markdown": [
       "7924"
      ],
      "text/plain": [
       "[1] 7924"
      ]
     },
     "metadata": {},
     "output_type": "display_data"
    }
   ],
   "source": [
    "choose(16,6)-choose(8,6)-choose(8,5)"
   ]
  },
  {
   "cell_type": "markdown",
   "metadata": {},
   "source": [
    "c) $$\\left(\\begin{array}{c} 16 \\\\ 6 \\end{array}\\right)\n",
    "-\\left(\\begin{array}{c} 8 \\\\ 6 \\end{array}\\right)\n",
    "-\\left(\\begin{array}{c} 13 \\\\ 6 \\end{array}\\right)\n",
    "-\\left(\\begin{array}{c} 11 \\\\ 6 \\end{array}\\right)=$$"
   ]
  },
  {
   "cell_type": "code",
   "execution_count": 4,
   "metadata": {},
   "outputs": [
    {
     "data": {
      "text/html": [
       "5802"
      ],
      "text/latex": [
       "5802"
      ],
      "text/markdown": [
       "5802"
      ],
      "text/plain": [
       "[1] 5802"
      ]
     },
     "metadata": {},
     "output_type": "display_data"
    }
   ],
   "source": [
    "choose(16,6)-choose(8,6)-choose(13,6)-choose(11,6)"
   ]
  },
  {
   "cell_type": "markdown",
   "metadata": {},
   "source": [
    "### Aufgabe 8"
   ]
  },
  {
   "cell_type": "markdown",
   "metadata": {},
   "source": [
    "An einem Tennisturnier nehmen 12 Spieler teil. Wie viele verschiedene Paarungen sind für die erste Runde möglich?"
   ]
  },
  {
   "cell_type": "markdown",
   "metadata": {},
   "source": []
  },
  {
   "cell_type": "code",
   "execution_count": null,
   "metadata": {},
   "outputs": [],
   "source": []
  }
 ],
 "metadata": {
  "kernelspec": {
   "display_name": "Octave",
   "language": "octave",
   "name": "octave"
  },
  "language_info": {
   "file_extension": ".m",
   "help_links": [
    {
     "text": "GNU Octave",
     "url": "https://www.gnu.org/software/octave/support.html"
    },
    {
     "text": "Octave Kernel",
     "url": "https://github.com/Calysto/octave_kernel"
    },
    {
     "text": "MetaKernel Magics",
     "url": "https://metakernel.readthedocs.io/en/latest/source/README.html"
    }
   ],
   "mimetype": "text/x-octave",
   "name": "octave",
   "version": "6.3.0"
  }
 },
 "nbformat": 4,
 "nbformat_minor": 4
}
