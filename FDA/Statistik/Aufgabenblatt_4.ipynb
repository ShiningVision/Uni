{
 "cells": [
  {
   "cell_type": "markdown",
   "metadata": {},
   "source": [
    "# Aufgabenblatt 4"
   ]
  },
  {
   "cell_type": "markdown",
   "metadata": {},
   "source": [
    "## Zufallsvariablen und ihre Verteilungen"
   ]
  },
  {
   "cell_type": "markdown",
   "metadata": {},
   "source": [
    "### Aufgabe 1"
   ]
  },
  {
   "cell_type": "markdown",
   "metadata": {},
   "source": [
    "Ein Nachtwächter hat einen Schlüsselbund mit 10 ähnlich aussehenden Schlüsseln. Wenn er eine bestimmte Tür aufschließen will, in deren Schloss genau einer der 10 Schlüsseln passt, so probiert er entweder die Schlüssel nacheinander durch – d.h. kein Schlüssel wird zweimal probiert – bis er den passenden Schlüssel findet (Methode A); oder er probiert einen zufällig ausgewählten Schlüssel, und wenn er nicht passt, so schüttelt er den Schlüsselbund und probiert wieder einen zufällig ausgewählten Schlüssel (Methode B).\n",
    "\n",
    "a) Die Zufallsvariable $X_A$ bzw. $X_B$ sei die Anzahl der Versuche, die nach Methode A bzw. B nötig sind, um den passenden Schlüssel zu finden. Man gebe die Verteilungen dieser beiden Zufallsgrößen an.  \n",
    "b) Der Nachtwächter benutzt Methode A, wenn er nüchtern ist, und Methode B, wenn er betrunken ist. Die Wahrscheinlichkeit dafür, dass er in einer bestimmten Nacht betrunken ist, betrage 1/3. Wie groß ist die (bedingte) Wahrscheinlichkeit dafür, dass der Betriebsleiter den Nachtwächter der Trunkenheit im Dienst zu recht bezichtigt, nachdem er gesehen hat, dass dieser schon 8-mal erfolglos versucht hat, die Tür zu öffnen?"
   ]
  },
  {
   "cell_type": "markdown",
   "metadata": {},
   "source": [
    "### Aufgabe 2"
   ]
  },
  {
   "cell_type": "markdown",
   "metadata": {},
   "source": [
    "20\\% aller Kälber erkranken in den ersten sechs Lebensmonaten an einer bestimmten nicht ansteckenden Krankheit. Um drei verschiedene Impfstoffe, A, B, und C auf ihre Wirksamkeit gegen die betreffende Krankheit zu testen, wurden 18 neugeborene Kälber eines Bauernhofes mit A, 11 neugeborene eines anderen Bauernhofes mit B und 26 neugeborene eines dritten Bauernhofes mit C geimpft. In den ersten sechs Lebensmonaten \n",
    "\n",
    "a) erkrankte genau eines der mit A geimpften Kälber,   \n",
    "b) erkrankte keines der mit B geimpften Kälber,  \n",
    "c) erkrankten genau zwei der mit C geimpften Kälber. \n",
    "\n",
    "Unter geeigneter Verteilungsannahme berechne man die Wahrscheinlichkeit dafür, dass bei völliger Wirkungslosigkeit des jeweiligen Impfstoffes keine größere als die unter a) bzw. b) bzw. c) angegebene Anzahl von Erkrankungen auftritt.\n"
   ]
  },
  {
   "cell_type": "markdown",
   "metadata": {},
   "source": [
    "### Aufgabe 3"
   ]
  },
  {
   "cell_type": "markdown",
   "metadata": {},
   "source": [
    "Ein Hautarzt möchte sich eine Meinung darüber bilden, welches von zwei neu auf dem Markt angebotenen Hautpflegemitteln A und B wirksamer gegen Ekzeme ist. Dazu gibt er 15 unter Ekzemen leidenden Patienten jeweils ein Fläschchen von A und von B und bittet sie darum, darauf zu achten, welches der Hautpflegemittel die stärkere Wirkung zeigt. Er legt die folgende Entscheidungsregel fest: Wenn mehr als 11 Patienten der Ansicht sind, dass das Mittel A (bzw. B) wirksamer ist als das andere, so wird er davon ausgehen, dass dieses Mittel eine stärkere Wirkung hat. Andernfalls wird er A und B als gleich wirksam betrachten. Wie groß ist die Wahrscheinlichkeit dafür, dass der Arzt auf unterschiedliche Wirksamkeit schließt, falls A und B tatsächlich gleich wirksam sind?"
   ]
  },
  {
   "cell_type": "markdown",
   "metadata": {},
   "source": [
    "### Aufgabe 4"
   ]
  },
  {
   "cell_type": "markdown",
   "metadata": {},
   "source": [
    "Bei der Einstellung einer Sekretärin wird eine Probezeit von 4 Wochen vereinbart. Während der Probezeit kann die Kündigung jeweils am Ende der Woche ausgesprochen werden. Im Rahmen der anfallenden Arbeiten hat die Sekretärin an jedem Arbeitstag (5 Tage pro Woche) 10 Briefe zu schreiben. Um zu entscheiden, ob die Sekretärin nach ihrer Probezeit endgültig eingestellt werden soll, legt sich der Büroleiter folgende Strategie zurecht: Enthält ein Brief nur einen Fehler, so korrigiert er diesen Fehler bei der Unterschrift. Enthält ein Brief jedoch mehr als einen Fehler, so muss der Brief von der Sekretärin noch einmal geschrieben werden. Müssen von den an einem Arbeitstag anfallenden 10 Briefen 3 oder mehr Briefe neu geschrieben werden, so wird die Sekretärin ermahnt. Wird sie an 3 aufeinander folgenden Tagen ein und derselben Woche ermahnt, so wird ihr am Ende der Woche die Kündigung ausgesprochen.\n",
    "\n",
    "Unter der Annahme, dass die Anzahlen der Fehler pro Brief durch unabhängige, identisch mit Parameter $\\lambda=1.0$ Poisson-verteilte Zufallsvariablen beschrieben werden können, berechne man die Wahrscheinlichkeit dafür, dass der Sekretärin spätestens am Ende der 4. Woche gekündigt wird.\n",
    "\n",
    "(Hinweis: Man berechne nacheinander die Wahrscheinlichkeiten dafür, dass\n",
    "\n",
    "1. ein Brief mehr als einen Fehler enthält,\n",
    "2. die Sekretärin an einem bestimmten Tag ermahnt wird,\n",
    "3. am Ende einer bestimmten Woche gekündigt wird und\n",
    "4. im Verlauf der Probezeit gekündigt wird.)\n"
   ]
  },
  {
   "cell_type": "markdown",
   "metadata": {},
   "source": [
    "### Aufgabe 5"
   ]
  },
  {
   "cell_type": "markdown",
   "metadata": {},
   "source": [
    "Der Milchfettgehalt bei Kühen einer bestimmten Züchtung sei durch eine $N(3.7,0.0081)$-verteilte Zufallsvariable angemessen beschrieben. Um einen züchterischen Fortschritt zu erreichen, sollen die Tiere mit niedrigen Leistungen laufend ausgesondert werden und nur 60\\% als Zuchtkühe verwendet werden. Man gebe die untere Grenze für den Fettgehalt an, den die Milch eines Tieres haben soll, das als Zuchttier verbleiben soll.\n",
    "\n",
    "Plotten Sie die Lösung als Fläche unter der Dichtefunktion."
   ]
  },
  {
   "cell_type": "code",
   "execution_count": 5,
   "metadata": {},
   "outputs": [
    {
     "name": "stdout",
     "output_type": "stream",
     "text": [
      "UG:  3.677199"
     ]
    }
   ],
   "source": [
    "mean = 3.7; sd = sqrt(0.0081); percentage=0.6\n",
    "ug <- qnorm((1-percentage), mean, sd); #calcuating the left border of the 60%\n",
    "cat(\"UG: \",ug)\n",
    "og<-4;#some number that lies approximately beyond the distribution"
   ]
  },
  {
   "cell_type": "code",
   "execution_count": 6,
   "metadata": {},
   "outputs": [
    {
     "data": {
      "image/png": "[encoded data removed]",
      "text/plain": [
       "plot without title"
      ]
     },
     "metadata": {},
     "output_type": "display_data"
    }
   ],
   "source": [
    "options(repr.plot.width=6, repr.plot.height=3)\n",
    "x <- seq(3.0,4,length=100)\n",
    "hx <- dnorm(x,mean,sd)\n",
    "\n",
    "plot(x, hx, type=\"l\", xlab=\"\", ylab=\"\", axes=FALSE)\n",
    "i <- x >= ug & x <= og\n",
    "polygon(  c(ug, ug, x[i], og, og), \n",
    "          c(0, dnorm(ug, mean, sd), hx[i], dnorm(og, mean, sd), 0), \n",
    "          col=rgb(1, 0, 0, 0.2))\n",
    "axis(1, at=seq(3.0, 4, 0.01), pos=0) "
   ]
  },
  {
   "cell_type": "markdown",
   "metadata": {},
   "source": [
    "### Aufgabe 6"
   ]
  },
  {
   "cell_type": "markdown",
   "metadata": {},
   "source": [
    "Die Lebensdauer elektrischer Bauteile einer bestimmten Sorte (in Stunden) lasse sich durch eine mit Parameter $\\lambda$ exponentialverteilte Zufallsvariable $X$ angemessen beschreiben. Für die Aufgabenteile a) bis d) sei $\\lambda=1/500$ vorausgesetzt.\n",
    "\n",
    "a) Wie groß ist die Wahrscheinlichkeit dafür, dass ein Bauteil vor dem Zeitpunkt $t_0=200$ nicht ausfällt?  \n",
    "b) Wie groß ist die Wahrscheinlichkeit dafür, dass ein Bauteil vor dem Zeitpunkt $t_1=100$ ausfällt?  \n",
    "c) Wie groß ist die Wahrscheinlichkeit dafür, dass ein Bauteil zwischen den Zeitpunkten $t_2=200$ und $t_3=300$ ausfällt?  \n",
    "d) Welchen Zeitpunkt $t_4$ überlebt ein Bauteil mit genau 90\\% Sicherheit, welche Zeitpunkte überlebt ein Bauteil mit mindestens 90\\% Sicherheit?  \n",
    "e) Für welchen Wert des Parameters $\\lambda$ ergibt sich eine Lebensdauerverteilung, bei der mit Wahrscheinlichkeit 0.9 die Lebensdauer eines Bauteils mindestens 50 Stunden beträgt?  "
   ]
  },
  {
   "cell_type": "code",
   "execution_count": 7,
   "metadata": {
    "scrolled": true
   },
   "outputs": [
    {
     "name": "stdout",
     "output_type": "stream",
     "text": [
      "a)  0.67032\n",
      "b)  0.1812692\n",
      "c)  0.1215084\n",
      "d) t4:  52.68026"
     ]
    }
   ],
   "source": [
    "lambda<-1/500;\n",
    "#pexp kalkuliert die untere Fläche links von einem Zeitpunkt in der Exponentialverteilung\n",
    "a <- 1-pexp(200,lambda); cat(\"a) \",a)#1-die Wahrscheinlichkeit dass es ausfällt.\n",
    "b <- pexp(100,lambda); cat(\"\\nb) \",b)\n",
    "c <- pexp(300,lambda)-pexp(200,lambda);cat(\"\\nc) \",c)\n",
    "d <- qexp(0.1,lambda);cat(\"\\nd) t4: \",d)"
   ]
  },
  {
   "cell_type": "markdown",
   "metadata": {},
   "source": [
    "e) $$e^{-50\\lambda}=0.9$$\n",
    "Nach $\\lambda$ umstellen"
   ]
  },
  {
   "cell_type": "markdown",
   "metadata": {},
   "source": [
    "### Aufgabe 7"
   ]
  },
  {
   "cell_type": "markdown",
   "metadata": {},
   "source": [
    "Die Brenndauer einer Glühbirne (in Stunden) lasse sich durch eine Zufallsvariable $T$ mit der Dichte\n",
    "\n",
    "$$f(t)=\\left\\{\\begin{array}{ll}\n",
    "         \\lambda^2te^{-\\lambda t} & t >0 \\\\\n",
    "         0 & \\textrm{sonst}\n",
    "       \\end{array}\\right.$$\n",
    "       \n",
    "mit $\\lambda>0$ beschreiben.\n",
    "\n",
    "a) Wie lautet die Verteilungsfunktion von $T$?  \n",
    "b) Wie groß ist für $\\lambda=1/400$ die Wahrscheinlichkeit dafür, dass die Brenndauer einer Birne mehr als 200 Betriebsstunden beträgt?  \n",
    "c) Wie groß ist für $\\lambda=1/400$ die Wahrscheinlichkeit dafür, dass die Brenndauer zwischen 200 und 400 Stunden liegt?"
   ]
  },
  {
   "cell_type": "markdown",
   "metadata": {},
   "source": [
    "a) Verteilungsfunktion F(t)= $\\int_{0}^{t}$f(t)\n",
    "\n",
    "$$F(t)=-e^{-\\lambda t}(\\lambda t+1)$$"
   ]
  },
  {
   "cell_type": "code",
   "execution_count": 56,
   "metadata": {},
   "outputs": [
    {
     "name": "stdout",
     "output_type": "stream",
     "text": [
      "b)  0.909796\n",
      "c)  0.1740371"
     ]
    }
   ],
   "source": [
    "dichteFunktion<-function(x,t){return(-exp(-x*t)*(x*t+1))};\n",
    "lambda<-1/400;\n",
    "b<--1*dichteFunktion(lambda,200);cat(\"b) \",b);\n",
    "c<-dichteFunktion(lambda,400)-dichteFunktion(lambda,200);cat(\"\\nc) \",c);"
   ]
  },
  {
   "cell_type": "markdown",
   "metadata": {},
   "source": [
    "### Aufgabe 8\n",
    "*(nur manuell)*"
   ]
  },
  {
   "cell_type": "markdown",
   "metadata": {},
   "source": [
    "$X$ und $Y$ seien Zufallsvariablen mit den Dichten $f$ bzw. $g$\n",
    "\n",
    "$$f(x)=\\left\\{\\begin{array}{ll}\n",
    "         \\frac{1}{2} & 0 \\leq x \\leq 2 \\\\\n",
    "         0 & \\textrm{sonst} \n",
    "       \\end{array}\\right.,\n",
    "g(y)=\\left\\{\\begin{array}{ll}\n",
    "         e^{-y} & y >0 \\\\\n",
    "         0 & \\textrm{sonst}\n",
    "       \\end{array}\\right. $$\n",
    "\n",
    "Man berechne die Verteilungsfunktionen der Zufallsvariablen $2X$, $Y^2$ und $4Y-1$ und gebe jeweils eine Dichte an."
   ]
  }
 ],
 "metadata": {
  "kernelspec": {
   "display_name": "R",
   "language": "R",
   "name": "ir"
  },
  "language_info": {
   "codemirror_mode": "r",
   "file_extension": ".r",
   "mimetype": "text/x-r-source",
   "name": "R",
   "pygments_lexer": "r",
   "version": "3.6.1"
  }
 },
 "nbformat": 4,
 "nbformat_minor": 4
}
